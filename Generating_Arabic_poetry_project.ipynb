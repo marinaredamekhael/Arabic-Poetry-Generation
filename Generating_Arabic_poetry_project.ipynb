{
  "nbformat": 4,
  "nbformat_minor": 0,
  "metadata": {
    "colab": {
      "provenance": [],
      "gpuType": "T4"
    },
    "kernelspec": {
      "name": "python3",
      "display_name": "Python 3"
    },
    "language_info": {
      "name": "python"
    },
    "accelerator": "GPU"
  },
  "cells": [
    {
      "cell_type": "markdown",
      "source": [
        "# Arabic Text Generation: Deep Learning for Poetry Synthesis\n",
        "<img src=\"https://encrypted-tbn0.gstatic.com/images?q=tbn:ANd9GcQJ6BQ1sJ6BgIGzMEbazHQtP5r8ISyxISoCSDbrFdOZDE6l4hKg3DogQnue0i6QhtTOl3U&usqp=CAU\" alt=\"image\" width=\"800\"/>\n",
        "\n",
        "## Introduction\n",
        "This code is based on the paper [Arabic Text Generation: Deep Learning for Poetry Synthesis](https://www.researchgate.net/publication/349802531_Arabic_Text_Generation_Deep_Learning_for_Poetry_Synthesis). The goal is to generate new Arabic poetry using deep learning techniques, specifically focusing on **LSTM-based models** for sequence generation.\n",
        "\n",
        "### Context\n",
        "Arabic poetry is one of the oldest and most important literary traditions in the world. It has a rich history that dates back over 1,500 years, starting with pre-Islamic poetry and continuing to the modern day. Arabic poetry covers a wide range of themes, including love, nature, social issues, and philosophy. Over time, it has evolved in form and style, from the classical qasidah (odes) to modern free verse. Poets have used their words to express emotions, reflect on society, and even inspire political change. Arabic poetry continues to be an integral part of Arab culture and plays a significant role in both historical and contemporary life.\n",
        "\n",
        "\n",
        "### Content\n",
        "The dataset used in this project contains over **58,000 Arabic poems** spanning from the 6th century to the present day. The poems were scraped from **adab.com**, and along with the poems, metadata such as the poet's name, the poem itself, and its category are included.\n",
        "\n",
        "You can access the dataset from Kaggle [here](https://www.kaggle.com/datasets/fahd09/arabic-poetry-dataset-478-2017/data).\n",
        "\n",
        "\n",
        "\n"
      ],
      "metadata": {
        "id": "hrDO3c3umlqO"
      }
    },
    {
      "cell_type": "code",
      "source": [
        "import pandas as pd\n",
        "import re\n",
        "\n",
        "# Load Dataset\n",
        "file_path = '/content/all_poems.csv'\n",
        "data = pd.read_csv(file_path)"
      ],
      "metadata": {
        "id": "Q67GyAcMXMbl"
      },
      "execution_count": 72,
      "outputs": []
    },
    {
      "cell_type": "code",
      "source": [
        "data.head(1)"
      ],
      "metadata": {
        "id": "kfsEzbaiZOST",
        "colab": {
          "base_uri": "https://localhost:8080/",
          "height": 81
        },
        "outputId": "f13d0e8b-4950-42dc-99ed-56b06c9da17a"
      },
      "execution_count": 73,
      "outputs": [
        {
          "output_type": "execute_result",
          "data": {
            "text/plain": [
              "   poem_id                                          poem_link poem_style  \\\n",
              "0       21  http://www.adab.com/modules.php?name=Sh3er&doW...       فصحى   \n",
              "\n",
              "                                           poem_text     poem_title poet_cat  \\\n",
              "0  عيناك غابتا نخيل ساعة السحر او شرفتان راح يناي...  أنشودة المطر    العراق   \n",
              "\n",
              "   poet_id                                          poet_link        poet_name  \n",
              "0        2  http://www.adab.com/modules.php?name=Sh3er&doW...  بدر شاكر السياب  "
            ],
            "text/html": [
              "\n",
              "  <div id=\"df-7b258da2-bdbe-4443-8d97-0578be9e5c85\" class=\"colab-df-container\">\n",
              "    <div>\n",
              "<style scoped>\n",
              "    .dataframe tbody tr th:only-of-type {\n",
              "        vertical-align: middle;\n",
              "    }\n",
              "\n",
              "    .dataframe tbody tr th {\n",
              "        vertical-align: top;\n",
              "    }\n",
              "\n",
              "    .dataframe thead th {\n",
              "        text-align: right;\n",
              "    }\n",
              "</style>\n",
              "<table border=\"1\" class=\"dataframe\">\n",
              "  <thead>\n",
              "    <tr style=\"text-align: right;\">\n",
              "      <th></th>\n",
              "      <th>poem_id</th>\n",
              "      <th>poem_link</th>\n",
              "      <th>poem_style</th>\n",
              "      <th>poem_text</th>\n",
              "      <th>poem_title</th>\n",
              "      <th>poet_cat</th>\n",
              "      <th>poet_id</th>\n",
              "      <th>poet_link</th>\n",
              "      <th>poet_name</th>\n",
              "    </tr>\n",
              "  </thead>\n",
              "  <tbody>\n",
              "    <tr>\n",
              "      <th>0</th>\n",
              "      <td>21</td>\n",
              "      <td>http://www.adab.com/modules.php?name=Sh3er&amp;doW...</td>\n",
              "      <td>فصحى</td>\n",
              "      <td>عيناك غابتا نخيل ساعة السحر او شرفتان راح يناي...</td>\n",
              "      <td>أنشودة المطر</td>\n",
              "      <td>العراق</td>\n",
              "      <td>2</td>\n",
              "      <td>http://www.adab.com/modules.php?name=Sh3er&amp;doW...</td>\n",
              "      <td>بدر شاكر السياب</td>\n",
              "    </tr>\n",
              "  </tbody>\n",
              "</table>\n",
              "</div>\n",
              "    <div class=\"colab-df-buttons\">\n",
              "\n",
              "  <div class=\"colab-df-container\">\n",
              "    <button class=\"colab-df-convert\" onclick=\"convertToInteractive('df-7b258da2-bdbe-4443-8d97-0578be9e5c85')\"\n",
              "            title=\"Convert this dataframe to an interactive table.\"\n",
              "            style=\"display:none;\">\n",
              "\n",
              "  <svg xmlns=\"http://www.w3.org/2000/svg\" height=\"24px\" viewBox=\"0 -960 960 960\">\n",
              "    <path d=\"M120-120v-720h720v720H120Zm60-500h600v-160H180v160Zm220 220h160v-160H400v160Zm0 220h160v-160H400v160ZM180-400h160v-160H180v160Zm440 0h160v-160H620v160ZM180-180h160v-160H180v160Zm440 0h160v-160H620v160Z\"/>\n",
              "  </svg>\n",
              "    </button>\n",
              "\n",
              "  <style>\n",
              "    .colab-df-container {\n",
              "      display:flex;\n",
              "      gap: 12px;\n",
              "    }\n",
              "\n",
              "    .colab-df-convert {\n",
              "      background-color: #E8F0FE;\n",
              "      border: none;\n",
              "      border-radius: 50%;\n",
              "      cursor: pointer;\n",
              "      display: none;\n",
              "      fill: #1967D2;\n",
              "      height: 32px;\n",
              "      padding: 0 0 0 0;\n",
              "      width: 32px;\n",
              "    }\n",
              "\n",
              "    .colab-df-convert:hover {\n",
              "      background-color: #E2EBFA;\n",
              "      box-shadow: 0px 1px 2px rgba(60, 64, 67, 0.3), 0px 1px 3px 1px rgba(60, 64, 67, 0.15);\n",
              "      fill: #174EA6;\n",
              "    }\n",
              "\n",
              "    .colab-df-buttons div {\n",
              "      margin-bottom: 4px;\n",
              "    }\n",
              "\n",
              "    [theme=dark] .colab-df-convert {\n",
              "      background-color: #3B4455;\n",
              "      fill: #D2E3FC;\n",
              "    }\n",
              "\n",
              "    [theme=dark] .colab-df-convert:hover {\n",
              "      background-color: #434B5C;\n",
              "      box-shadow: 0px 1px 3px 1px rgba(0, 0, 0, 0.15);\n",
              "      filter: drop-shadow(0px 1px 2px rgba(0, 0, 0, 0.3));\n",
              "      fill: #FFFFFF;\n",
              "    }\n",
              "  </style>\n",
              "\n",
              "    <script>\n",
              "      const buttonEl =\n",
              "        document.querySelector('#df-7b258da2-bdbe-4443-8d97-0578be9e5c85 button.colab-df-convert');\n",
              "      buttonEl.style.display =\n",
              "        google.colab.kernel.accessAllowed ? 'block' : 'none';\n",
              "\n",
              "      async function convertToInteractive(key) {\n",
              "        const element = document.querySelector('#df-7b258da2-bdbe-4443-8d97-0578be9e5c85');\n",
              "        const dataTable =\n",
              "          await google.colab.kernel.invokeFunction('convertToInteractive',\n",
              "                                                    [key], {});\n",
              "        if (!dataTable) return;\n",
              "\n",
              "        const docLinkHtml = 'Like what you see? Visit the ' +\n",
              "          '<a target=\"_blank\" href=https://colab.research.google.com/notebooks/data_table.ipynb>data table notebook</a>'\n",
              "          + ' to learn more about interactive tables.';\n",
              "        element.innerHTML = '';\n",
              "        dataTable['output_type'] = 'display_data';\n",
              "        await google.colab.output.renderOutput(dataTable, element);\n",
              "        const docLink = document.createElement('div');\n",
              "        docLink.innerHTML = docLinkHtml;\n",
              "        element.appendChild(docLink);\n",
              "      }\n",
              "    </script>\n",
              "  </div>\n",
              "\n",
              "\n",
              "    </div>\n",
              "  </div>\n"
            ],
            "application/vnd.google.colaboratory.intrinsic+json": {
              "type": "dataframe",
              "variable_name": "data",
              "summary": "{\n  \"name\": \"data\",\n  \"rows\": 58021,\n  \"fields\": [\n    {\n      \"column\": \"poem_id\",\n      \"properties\": {\n        \"dtype\": \"number\",\n        \"std\": 28698,\n        \"min\": 10,\n        \"max\": 86650,\n        \"num_unique_values\": 58021,\n        \"samples\": [\n          71182,\n          61367,\n          58699\n        ],\n        \"semantic_type\": \"\",\n        \"description\": \"\"\n      }\n    },\n    {\n      \"column\": \"poem_link\",\n      \"properties\": {\n        \"dtype\": \"string\",\n        \"num_unique_values\": 58021,\n        \"samples\": [\n          \"http://www.adab.com/modules.php?name=Sh3er&doWhat=shqas&qid=71182&r=&rc=39\",\n          \"http://www.adab.com/modules.php?name=Sh3er&doWhat=shqas&qid=61367&r=&rc=1099\",\n          \"http://www.adab.com/modules.php?name=Sh3er&doWhat=shqas&qid=58699&r=&rc=1057\"\n        ],\n        \"semantic_type\": \"\",\n        \"description\": \"\"\n      }\n    },\n    {\n      \"column\": \"poem_style\",\n      \"properties\": {\n        \"dtype\": \"category\",\n        \"num_unique_values\": 3,\n        \"samples\": [\n          \"\\u0641\\u0635\\u062d\\u0649\",\n          \"-\",\n          \"\\u0639\\u0627\\u0645\\u064a\"\n        ],\n        \"semantic_type\": \"\",\n        \"description\": \"\"\n      }\n    },\n    {\n      \"column\": \"poem_text\",\n      \"properties\": {\n        \"dtype\": \"string\",\n        \"num_unique_values\": 57693,\n        \"samples\": [\n          \" \\u0647\\u0648 \\u0627\\u0644\\u062f\\u0647\\u0631 \\u0645\\u063a\\u0631\\u064a \\u0628\\u0627\\u0644\\u0643\\u0631\\u064a\\u0645 \\u0648\\u0633\\u0644\\u0628\\u0647 \\u0641\\u0627\\u0646 \\u0643\\u0646\\u062a \\u0641\\u064a \\u0634\\u0643 \\u0628\\u0630\\u0627\\u0643 \\u0641\\u0633\\u0644 \\u0628\\u0647 \\u0627\\u0631\\u0627\\u0646\\u0627 \\u0627\\u0644\\u0645\\u0639\\u0627\\u0644\\u064a \\u0643\\u064a\\u0641 \\u064a\\u0646\\u0647\\u062f \\u0631\\u0643\\u0646\\u0647\\u0627 \\u0648\\u0643\\u064a\\u0641 \\u064a\\u063a\\u0648\\u0631 \\u0627\\u0644\\u0628\\u062f\\u0631 \\u0645\\u0646 \\u0628\\u064a\\u0646 \\u0634\\u0647\\u0628\\u0647 \\u0627\\u0628\\u0639\\u062f \\u063a\\u064a\\u0627\\u062b \\u0627\\u0644\\u062f\\u064a\\u0646 \\u064a\\u0637\\u0645\\u0639 \\u0635\\u0631\\u0641\\u0647 \\u0628\\u0635\\u0631\\u0641 \\u062e\\u0637\\u0627\\u0628 \\u0627\\u0644\\u0646\\u0627\\u0633 \\u0639\\u0646 \\u0630\\u0645 \\u062e\\u0637\\u0628\\u0647 \\u0648\\u062a\\u062e\\u0637\\u0648 \\u0627\\u0644\\u064a \\u0639\\u0628\\u062f \\u0627\\u0644\\u0643\\u0631\\u064a\\u0645 \\u062e\\u0637\\u0648\\u0628\\u0647 \\u0648\\u064a\\u0637\\u0644\\u0628 \\u0645\\u0646\\u0627 \\u0627\\u0644\\u064a\\u0648\\u0645 \\u063a\\u0641\\u0631\\u0627\\u0646 \\u0630\\u0646\\u0628\\u0647 \\u0633\\u0644\\u064a\\u0644 \\u0627\\u0644\\u0646\\u0628\\u064a \\u0627\\u0644\\u0645\\u0635\\u0637\\u0641\\u064a \\u0648\\u0627\\u0628\\u0646 \\u0639\\u0645\\u0647 \\u0648\\u0646\\u062c\\u0644 \\u0627\\u0644\\u0648\\u0635\\u064a \\u0627\\u0644\\u0647\\u0627\\u0634\\u0645\\u064a \\u0644\\u0635\\u0644\\u0628\\u0647 \\u0641\\u062a\\u064a \\u0643\\u0627\\u0646 \\u0645\\u062b\\u0644 \\u0627\\u0644\\u063a\\u064a\\u062b \\u064a\\u062e\\u0634\\u064a \\u0648\\u0628\\u0627\\u0644\\u0647 \\u0648\\u064a\\u0631\\u062c\\u064a \\u0644\\u0637\\u0644\\u0627\\u0628 \\u0627\\u0644\\u0646\\u062f\\u064a \\u0648\\u0628\\u0644 \\u0633\\u062d\\u0628\\u0647 \\u0631\\u0642\\u064a\\u0642 \\u062d\\u0648\\u0627\\u0634\\u064a \\u0627\\u0644\\u0639\\u064a\\u0634 \\u0641\\u064a \\u064a\\u0648\\u0645 \\u0633\\u0644\\u0645\\u0647 \\u0643\\u062b\\u064a\\u0641 \\u062d\\u0648\\u0627\\u0634\\u064a \\u0627\\u0644\\u062c\\u064a\\u0634 \\u0641\\u064a \\u064a\\u0648\\u0645 \\u062d\\u0631\\u0628\\u0647 \\u0641\\u0644\\u0627 \\u064a\\u062a\\u0642\\u064a \\u0627\\u0644\\u0627\\u0633\\u064a\\u0627\\u0641 \\u0627\\u0644\\u0627 \\u0628\\u0648\\u062c\\u0647 \\u0648\\u0644\\u0627 \\u064a\\u0644\\u062a\\u0642\\u064a \\u0627\\u0644\\u0627\\u0636\\u064a\\u0627\\u0641 \\u0627\\u0644\\u0627 \\u0628\\u0642\\u0644\\u0628\\u0647 \\u0648\\u0644\\u0627 \\u064a\\u0646\\u0638\\u0631 \\u0627\\u0644\\u0627\\u0634\\u064a\\u0627\\u0621\\u0636 \\u0627\\u0644\\u0627 \\u0628\\u0639\\u0642\\u0644\\u0647 \\u0648\\u0644\\u0627 \\u064a\\u0633\\u0645\\u0639 \\u0627\\u0644\\u0627\\u0646\\u0628\\u0627\\u0621 \\u0627\\u0644\\u0627 \\u0628\\u0644\\u0628\\u0647 \\u0627\\u0630\\u0627 \\u062c\\u0627\\u0644 \\u0641\\u064a \\u064a\\u0648\\u0645 \\u0627\\u0644\\u0631\\u062f\\u064a \\u0642\\u064a\\u0644 \\u0645\\u0646 \\u0644\\u0647 \\u0648\\u0627\\u0646 \\u062c\\u0627\\u062f \\u0641\\u064a \\u064a\\u0648\\u0645 \\u0627\\u0644\\u0646\\u062f\\u064a \\u0642\\u064a\\u0644 \\u0645\\u0646 \\u0628\\u0647 \\u0627\\u0645\\u0646 \\u0628\\u0639\\u062f \\u0645\\u0627 \\u062a\\u0645\\u062a \\u0645\\u062d\\u0627\\u0633\\u0646 \\u0628\\u062f\\u0631\\u0647 \\u0648\\u062f\\u0627\\u0631\\u062a \\u0639\\u0644\\u064a \\u0643\\u0644 \\u0627\\u0644\\u0648\\u0631\\u064a \\u0643\\u0627\\u0633 \\u062d\\u0632\\u0646\\u0647 \\u062f\\u0647\\u062a\\u0647 \\u0627\\u0644\\u0645\\u0646\\u0627\\u064a\\u0627 \\u0648\\u0647\\u064a \\u0641\\u064a \\u062d\\u062f \\u0633\\u064a\\u0641\\u0647 \\u0648\\u0635\\u0631\\u0641 \\u0627\\u0644\\u064a\\u0627\\u0644\\u064a \\u0648\\u0647\\u0648 \\u0645\\u0646 \\u0628\\u0639\\u0636 \\u062d\\u0628\\u0647 \\u0643\\u0627\\u0646 \\u0644\\u0645 \\u064a\\u0642\\u062f\\u0647\\u0627 \\u0643\\u0627\\u0644\\u0627\\u062c\\u0627\\u062f\\u0644 \\u0633\\u0631\\u0628\\u0627 \\u0648\\u064a\\u0631\\u0641\\u0639 \\u0642\\u0628 \\u0627\\u0644\\u064a\\u0644 \\u0645\\u0646 \\u0646\\u0642\\u0639 \\u0642\\u0628\\u0647 \\u0648\\u0644\\u0645 \\u064a\\u0642\\u0631\\u0639 \\u0627\\u0644\\u0627\\u0633\\u0645\\u0627\\u0639 \\u0648\\u0642\\u0639 \\u062e\\u0637\\u0627\\u0628\\u0647 \\u0648\\u0644\\u0645 \\u064a\\u0637\\u0631\\u0642 \\u0627\\u0644\\u0647\\u064a\\u062c\\u0627\\u0621 \\u0645\\u0648\\u0642\\u0639 \\u062e\\u0637\\u0628\\u0647 \\u0648\\u0644\\u0627 \\u0643\\u0627\\u0646 \\u064a\\u0648\\u0645 \\u0627\\u0644\\u062f\\u0633\\u062a \\u0635\\u0627\\u062d\\u0628 \\u0635\\u062f\\u0631\\u0647 \\u0648\\u0644\\u062c\\u064a\\u0634 \\u064a\\u0648\\u0645 \\u0627\\u0644\\u062d\\u0631\\u0628 \\u0645\\u0631\\u0643\\u0632 \\u0642\\u0637\\u0628\\u0647 \\u0627\\u062a\\u0639\\u062a\\u0632\\u0647 \\u0627\\u0644\\u0627\\u0639\\u062f\\u0627\\u0621 \\u0641\\u064a \\u064a\\u0648\\u0645 \\u0644\\u0647\\u0648\\u0647 \\u0641\\u0644\\u0627 \\u0627\\u062a\\u0648\\u0647 \\u062c\\u062d\\u0641\\u0644\\u0627 \\u064a\\u0648\\u0645 \\u062d\\u0631\\u0628\\u0647 \\u0648\\u0644\\u0645 \\u0627\\u0631 \\u0642\\u0628\\u0644 \\u0627\\u0644\\u064a\\u0648\\u0645 \\u0644\\u064a\\u062b \\u0639\\u0631\\u064a\\u0643\\u0629 \\u0627\\u0630\\u0627\\u0642\\u062a\\u0647 \\u0637\\u0639\\u0645 \\u0627\\u0644\\u0645\\u0648\\u062a \\u0639\\u0636\\u0629 \\u0643\\u0644\\u0628\\u0647 \\u0648\\u0644\\u0648 \\u0643\\u0627\\u0646 \\u0645\\u0627 \\u0628\\u064a\\u0646 \\u0627\\u0644\\u0635\\u0648\\u0627\\u0631\\u0645 \\u0648\\u0627\\u0644\\u0642\\u0646\\u0627 \\u0648\\u0641\\u0648\\u0642 \\u0645\\u062a\\u0648\\u0646 \\u0627\\u0644\\u062e\\u064a\\u0644 \\u0627\\u062f\\u0631\\u0627\\u0643 \\u0646\\u062d\\u0628\\u0647 \\u0644\\u0643\\u0627\\u0646 \\u062c\\u0645\\u064a\\u0644 \\u0627\\u0644\\u0630\\u0643\\u0631 \\u0639\\u0646 \\u062d\\u0633\\u0646 \\u0641\\u0639\\u0644\\u0647 \\u064a\\u0646\\u0641\\u0633 \\u0639\\u0646 \\u0642\\u0644\\u0628\\u0634 \\u0627\\u0644\\u0641\\u062a\\u064a \\u0628\\u0639\\u0636 \\u0643\\u0631\\u0628\\u0647 \\u0627\\u0628\\u064a \\u0642\\u064a\\u0627\\u062f \\u0627\\u0644\\u0646\\u0641\\u0633 \\u0627\\u062b\\u0631 \\u062d\\u062a\\u0641\\u0647 \\u0648\\u0644\\u0645 \\u064a\\u0628\\u062f \\u064a\\u0648\\u0645\\u0627 \\u0644\\u0639\\u062f\\u064a \\u0644\\u064a\\u0646 \\u062c\\u0646\\u0628\\u0647 \\u0643\\u0627\\u0646 \\u0628\\u0646\\u064a \\u0639\\u0628\\u062f \\u0627\\u0644\\u062d\\u0645\\u064a\\u062f \\u0644\\u0641\\u0642\\u062f\\u0647 \\u0630\\u0631\\u064a \\u062c\\u0628\\u0644 \\u0647\\u062f\\u062a \\u062c\\u0644\\u0627\\u0645\\u062f \\u0647\\u0636\\u0628\\u0647 \\u0627\\u062a\\u0633\\u0644\\u0628\\u0647 \\u0627\\u0644\\u0627\\u0639\\u062f\\u0627\\u0621 \\u0645\\u0646 \\u0628\\u064a\\u0646 \\u0631\\u0647\\u0637\\u0647 \\u0648\\u062a\\u063a\\u062a\\u0627\\u0644\\u0647 \\u0627\\u0644\\u0627\\u064a\\u0627\\u0645 \\u0645\\u0646 \\u062f\\u0648\\u0646 \\u0635\\u062d\\u0628\\u0647 \\u0648\\u062a\\u0641\\u0642\\u062f\\u0647 \\u0641\\u064a \\u062f\\u0648\\u0644\\u0629 \\u0638\\u0627\\u0647\\u0631\\u064a\\u0629 \\u0628\\u0647\\u0627 \\u0627\\u0644\\u0630\\u0621\\u0628 \\u064a\\u0639\\u062f\\u0648 \\u0631\\u0627\\u0621\\u0639\\u0627 \\u0628\\u064a\\u0646 \\u0633\\u0631\\u0628\\u0647 \\u0628\\u062f\\u0648\\u0644\\u0629 \\u0645\\u0644\\u0643 \\u064a\\u063a\\u0635\\u0628 \\u0627\\u0644\\u064a\\u062b \\u0642\\u0648\\u062a\\u0647 \\u0648\\u064a\\u0642\\u062a\\u0644 \\u0645\\u0646 \\u064a\\u0644\\u0642\\u0627\\u0647 \\u0634\\u062f\\u0629 \\u0631\\u0639\\u0628\\u0647 \\u0641\\u0644\\u0648 \\u0643\\u0627\\u0646 \\u0634\\u0645\\u0633 \\u0627\\u0644\\u062d\\u0642 \\u0648\\u0627\\u0644\\u062f\\u064a\\u0646 \\u0634\\u0627\\u0647\\u062f\\u0627 \\u0644\\u0645\\u0635\\u0631\\u0639 \\u0630\\u0627\\u0643 \\u0627\\u0644\\u0646\\u062f\\u0628 \\u0633\\u0627\\u0639\\u0629 \\u0646\\u062f\\u0628\\u0647 \\u0628\\u0643\\u0627\\u0647 \\u0628\\u0627\\u0637\\u0631\\u0627\\u0641 \\u0627\\u0644\\u0627\\u0633\\u0646\\u0629 \\u0648\\u0627\\u0644\\u0638\\u0628\\u064a \\u0628\\u062f\\u0645\\u0639 \\u0645\\u0646 \\u0627\\u0644\\u0628\\u0627\\u062a \\u0645\\u0633\\u0642\\u0637 \\u0633\\u0643\\u0628\\u0647 \\u0648\\u0634\\u0646 \\u0639\\u0644\\u064a \\u0639\\u0631\\u0628 \\u0627\\u0644\\u0639\\u0630\\u0627\\u0631\\u064a\\u0646 \\u063a\\u0627\\u0631\\u0629 \\u064a\\u0636\\u064a\\u0642 \\u0628\\u0647\\u0627 \\u0641\\u064a \\u0627\\u0644\\u0628\\u0631 \\u0648\\u0627\\u0633\\u0639 \\u0631\\u062d\\u0628\\u0647 \\u0641\\u062a\\u0639\\u062c\\u0628 \\u0644\\u0628\\u0627\\u062a \\u0627\\u0644\\u0643\\u0645\\u0627\\u0629 \\u0628\\u0637\\u0639\\u0646\\u0647 \\u0648\\u064a\\u0639\\u0631\\u0628 \\u0647\\u0627\\u0645\\u0627\\u062a \\u0627\\u0644\\u062d\\u0645\\u0627\\u0629 \\u0628\\u0636\\u0631\\u0628\\u0647 \\u0641\\u0644\\u0627 \\u0646\\u0642\\u0637 \\u0627\\u0644\\u0627 \\u0645\\u0646 \\u0633\\u0646\\u0627\\u0646 \\u0642\\u0646\\u0627\\u062a\\u0647 \\u0648\\u0644\\u0627 \\u0634\\u0643\\u0644 \\u0627\\u0644\\u0627 \\u0645\\u0646 \\u0645\\u0636\\u0627\\u0631\\u0628 \\u0639\\u0636\\u0628\\u0647 \\u0627\\u0628\\u0627 \\u0627\\u0644\\u062d\\u0631\\u0628 \\u0628\\u0627\\u062f\\u0631 \\u0648\\u0627\\u062a\\u062e\\u0630\\u0647\\u0627 \\u0635\\u0646\\u064a\\u0639\\u0629 \\u062a\\u0628\\u062f\\u0644 \\u0645\\u0631 \\u0627\\u0644\\u0642\\u0648\\u0644 \\u0641\\u064a\\u0643\\u0645 \\u0628\\u0639\\u0630\\u0628\\u0647 \\u0641\\u0643\\u0645 \\u0644\\u063a\\u064a\\u0627\\u062b \\u0627\\u0644\\u062f\\u064a\\u0646 \\u0645\\u0646 \\u062d\\u0642 \\u0645\\u0646\\u0629 \\u062a\\u0637\\u0648\\u0642 \\u0628\\u0627\\u0644\\u0627\\u0646\\u0639\\u0627\\u0645 \\u0627\\u0639\\u0646\\u0627\\u0642 \\u0635\\u062d\\u0628\\u0647 \\u0642\\u0636\\u064a \\u0646\\u062d\\u0628\\u0647 \\u0648\\u0627\\u0644\\u0630\\u0643\\u0631 \\u0645\\u0646\\u0647 \\u0645\\u062e\\u0644\\u062f \\u0628\\u0627\\u0641\\u0648\\u0627\\u0647\\u0646\\u0627 \\u0644\\u0645 \\u064a\\u0642\\u0636 \\u064a\\u0648\\u0645\\u0627 \\u0644\\u0646\\u062d\\u0628\\u0647 \\u0648\\u0645\\u0630 \\u0631\\u062c\\u0639\\u062a \\u0627\\u062a\\u0631\\u0627\\u0628\\u0647 \\u0645\\u0646 \\u0648\\u062f\\u0627\\u0639\\u0647 \\u062a\\u0644\\u0642\\u0627\\u0647 \\u0641\\u064a \\u0627\\u0643\\u0641\\u0627\\u0646\\u0647 \\u0639\\u0641\\u0648 \\u0631\\u0628\\u0647 \\u0633\\u0642\\u064a \\u0642\\u0628\\u0631\\u0647 \\u0645\\u0646 \\u0635\\u064a\\u0628 \\u0627\\u0644\\u0645\\u0632\\u0646 \\u0648\\u0627\\u0628\\u0644 \\u064a\\u062c\\u0631 \\u0639\\u0644\\u064a \\u0627\\u0631\\u062c\\u0627\\u0621\\u0647 \\u0630\\u064a\\u0644 \\u062e\\u0635\\u0628\\u0647 \\u0648\\u0645\\u0646 \\u0639\\u062c\\u0628 \\u0627\\u0646 \\u0627\\u0644\\u0633\\u062d\\u0627\\u0628 \\u0628\\u0642\\u0628\\u0631\\u0647 \\u0648\\u0627\\u0633\\u0627\\u0644 \\u0645\\u0646 \\u0635\\u0648\\u0628 \\u0627\\u0644\\u062d\\u064a\\u0627 \\u0631\\u064a \\u0631\\u0628\\u0647\",\n          \" \\u0632\\u0627\\u0631\\u062a \\u0639\\u0644\\u064a \\u0627\\u0644\\u062e\\u0648\\u0641 \\u0645\\u0646 \\u0631\\u0642\\u064a\\u0628 \\u0643\\u0638\\u0628\\u064a\\u0629 \\u0631\\u0648\\u0639\\u062a \\u0628\\u0630\\u064a\\u0628 \\u0643\\u0627\\u0641\\u0648\\u0631\\u0629 \\u0641\\u064a \\u0628\\u064a\\u0627\\u0636 \\u0644\\u0648\\u0646 \\u0648\\u0645\\u0633\\u0643\\u0629 \\u0641\\u064a \\u0630\\u0643\\u064a \\u0637\\u064a\\u0628 \\u0643\\u0627\\u062f\\u062a \\u062a\\u0631\\u0648\\u064a \\u063a\\u0644\\u064a\\u0644 \\u0635\\u0628 \\u0641\\u0621\\u0627\\u062f\\u0647 \\u0645\\u0646\\u0647 \\u0641\\u064a \\u0644\\u0647\\u064a\\u0628 \\u0645\\u0646 \\u062b\\u063a\\u0628 \\u0628\\u0627\\u0631\\u062f \\u062d\\u0635\\u0627\\u0647 \\u0645\\u0646\\u0638\\u0645 \\u0627\\u0644\\u0621\\u0644\\u0621 \\u0627\\u0644\\u0634\\u0646\\u064a\\u0628 \\u062d\\u062a\\u064a \\u0627\\u0630\\u0627 \\u0645\\u0627 \\u0637\\u0645\\u0639\\u062a \\u0645\\u0646\\u0647 \\u0628\\u062d\\u0633\\u0648\\u0629 \\u0627\\u0644\\u0637\\u0627\\u0621\\u0631 \\u0627\\u0644\\u0645\\u0631\\u064a\\u0628 \\u0648\\u0644\\u062a \\u0641\\u0642\\u0644 \\u0641\\u064a \\u0637\\u0644\\u0648\\u0639 \\u0634\\u0645\\u0633 \\u0642\\u062f \\u0627\\u062e\\u0630\\u062a \\u0639\\u0646\\u0647 \\u0641\\u064a \\u0627\\u0644\\u063a\\u0631\\u0648\\u0628 \\u0643\\u0627\\u0646 \\u0632\\u0645\\u0627\\u0646 \\u0627\\u0644\\u0642\\u0627\\u0621 \\u0645\\u0646\\u0647\\u0627 \\u0627\\u0642\\u0635\\u0631 \\u0645\\u0646 \\u062c\\u0644\\u0633\\u0629 \\u0627\\u0644\\u062e\\u0637\\u064a\\u0628\",\n          \" \\u0647\\u064a \\u0627\\u0644\\u062f\\u0646\\u064a\\u0627 \\u0648\\u0632\\u064a\\u0646\\u062a\\u0647\\u0627 \\u0627\\u0644\\u0634\\u0628\\u0627\\u0628 \\u0648 \\u0641\\u064a \\u0627\\u0644\\u0630\\u0627\\u062a \\u0628\\u0639\\u062f\\u0647\\u0645\\u0627 \\u0627\\u0631\\u062a\\u064a\\u0627\\u0628 \\u0641\\u0644\\u0627 \\u062a\\u0630\\u0647\\u0628 \\u0628\\u0643 \\u0627\\u0644\\u0627\\u0637\\u0645\\u0627\\u0639 \\u0648\\u0627\\u0630\\u0647\\u0628 \\u0643\\u0621\\u0648\\u0633\\u0643 \\u0644\\u064a \\u0641\\u0642\\u062f \\u062d\\u0627\\u0646 \\u0627\\u0644\\u0630\\u0647\\u0627\\u0628 \\u0646\\u0632\\u0644\\u0646\\u0627 \\u0645\\u0646\\u0632\\u0644\\u0627 \\u0645\\u0646 \\u0633\\u0631\\u0645\\u0631\\u064a \\u0628\\u0647 \\u0627\\u0644\\u0630\\u0627\\u062a \\u0635\\u0627\\u0641\\u064a\\u0629 \\u0639\\u0630\\u0627\\u0628 \\u062d\\u062f\\u064a\\u062b \\u0643\\u0627\\u0628\\u062a\\u0633\\u0627\\u0645 \\u0627\\u0644\\u0631\\u0648\\u0636 \\u062c\\u0627\\u062f\\u062a \\u0639\\u0644\\u064a\\u0647 \\u0628\\u0641\\u064a\\u0636 \\u0627\\u062f\\u0645\\u0639\\u0647\\u0627 \\u0627\\u0644\\u0633\\u062d\\u0627\\u0628 \\u0648 \\u0627\\u0642\\u062f\\u0627\\u062d \\u062a\\u0641\\u0648\\u062d \\u0627\\u0644\\u0645\\u0633\\u0643 \\u0637\\u064a\\u0628\\u0627 \\u0648\\u064a\\u0643\\u0645\\u062f \\u0639\\u0646\\u062f\\u0647\\u0627 \\u0627\\u0644\\u0630\\u0647\\u0628 \\u0627\\u0644\\u0645\\u0630\\u0627\\u0628 \\u0627\\u0630\\u0627 \\u0645\\u0627 \\u0627\\u0644\\u0631\\u0627\\u062d \\u0648\\u0627\\u0644\\u0627\\u062a\\u0631\\u062c \\u0644\\u0627\\u062d\\u0627 \\u0644\\u0639\\u064a\\u0646\\u0643 \\u0642\\u0644\\u062a \\u0627\\u064a\\u0647\\u0645\\u0627 \\u0627\\u0644\\u0634\\u0631\\u0627\\u0628\"\n        ],\n        \"semantic_type\": \"\",\n        \"description\": \"\"\n      }\n    },\n    {\n      \"column\": \"poem_title\",\n      \"properties\": {\n        \"dtype\": \"string\",\n        \"num_unique_values\": 56872,\n        \"samples\": [\n          \"\\u0623\\u0634\\u062f\\u062f \\u062d\\u064a\\u0627\\u0632\\u064a\\u0645\\u0643 \\u0644\\u0644\\u0645\\u0648\\u062a \",\n          \"\\u0625\\u0630\\u0627 \\u0633\\u0627\\u0641\\u0631 \\u0627\\u0644\\u0633\\u0644\\u0637\\u0627\\u0646 \\u0646\\u062d\\u0648 \\u0645\\u0646\\u0643\\u0628 \",\n          \"\\u0625\\u0644\\u0649 \\u0636\\u0627\\u0626\\u0639\\u0629 \"\n        ],\n        \"semantic_type\": \"\",\n        \"description\": \"\"\n      }\n    },\n    {\n      \"column\": \"poet_cat\",\n      \"properties\": {\n        \"dtype\": \"category\",\n        \"num_unique_values\": 26,\n        \"samples\": [\n          \"\\u0627\\u0644\\u0639\\u0635\\u0631 \\u0627\\u0644\\u062c\\u0627\\u0647\\u0644\\u064a\",\n          \"\\u0627\\u0644\\u0645\\u063a\\u0631\\u0628\",\n          \"\\u0627\\u0644\\u0639\\u0631\\u0627\\u0642\"\n        ],\n        \"semantic_type\": \"\",\n        \"description\": \"\"\n      }\n    },\n    {\n      \"column\": \"poet_id\",\n      \"properties\": {\n        \"dtype\": \"number\",\n        \"std\": 168,\n        \"min\": 2,\n        \"max\": 755,\n        \"num_unique_values\": 652,\n        \"samples\": [\n          742,\n          348,\n          338\n        ],\n        \"semantic_type\": \"\",\n        \"description\": \"\"\n      }\n    },\n    {\n      \"column\": \"poet_link\",\n      \"properties\": {\n        \"dtype\": \"category\",\n        \"num_unique_values\": 652,\n        \"samples\": [\n          \"http://www.adab.com/modules.php?name=Sh3er&doWhat=lsq&shid=742&start=0\",\n          \"http://www.adab.com/modules.php?name=Sh3er&doWhat=lsq&shid=348&start=0\",\n          \"http://www.adab.com/modules.php?name=Sh3er&doWhat=lsq&shid=338&start=0\"\n        ],\n        \"semantic_type\": \"\",\n        \"description\": \"\"\n      }\n    },\n    {\n      \"column\": \"poet_name\",\n      \"properties\": {\n        \"dtype\": \"category\",\n        \"num_unique_values\": 652,\n        \"samples\": [\n          \"\\u062e\\u0627\\u0644\\u062f \\u0645\\u0635\\u0628\\u0627\\u062d \\u0645\\u0638\\u0644\\u0648\\u0645\",\n          \"\\u0627\\u0644\\u062d\\u0635\\u0631\\u064a \\u0627\\u0644\\u0642\\u064a\\u0631\\u0648\\u0627\\u0646\\u064a\",\n          \"\\u0645\\u062d\\u0645\\u062f \\u062c\\u0628\\u0631 \\u0627\\u0644\\u062d\\u0631\\u0628\\u064a\"\n        ],\n        \"semantic_type\": \"\",\n        \"description\": \"\"\n      }\n    }\n  ]\n}"
            }
          },
          "metadata": {},
          "execution_count": 73
        }
      ]
    },
    {
      "cell_type": "code",
      "source": [
        "# Display dataset information\n",
        "data.info()\n",
        "print(\"\\nSample data:\\n\", data.head())"
      ],
      "metadata": {
        "id": "dPPyPdUWXU52",
        "colab": {
          "base_uri": "https://localhost:8080/"
        },
        "outputId": "1b98b710-6f92-48ff-d2a0-6aefc3e2034b"
      },
      "execution_count": 74,
      "outputs": [
        {
          "output_type": "stream",
          "name": "stdout",
          "text": [
            "<class 'pandas.core.frame.DataFrame'>\n",
            "RangeIndex: 58021 entries, 0 to 58020\n",
            "Data columns (total 9 columns):\n",
            " #   Column      Non-Null Count  Dtype \n",
            "---  ------      --------------  ----- \n",
            " 0   poem_id     58021 non-null  int64 \n",
            " 1   poem_link   58021 non-null  object\n",
            " 2   poem_style  58021 non-null  object\n",
            " 3   poem_text   58020 non-null  object\n",
            " 4   poem_title  58021 non-null  object\n",
            " 5   poet_cat    58021 non-null  object\n",
            " 6   poet_id     58021 non-null  int64 \n",
            " 7   poet_link   58021 non-null  object\n",
            " 8   poet_name   58021 non-null  object\n",
            "dtypes: int64(2), object(7)\n",
            "memory usage: 4.0+ MB\n",
            "\n",
            "Sample data:\n",
            "    poem_id                                          poem_link poem_style  \\\n",
            "0       21  http://www.adab.com/modules.php?name=Sh3er&doW...       فصحى   \n",
            "1    65546  http://www.adab.com/modules.php?name=Sh3er&doW...       فصحى   \n",
            "2    65561  http://www.adab.com/modules.php?name=Sh3er&doW...       فصحى   \n",
            "3    65554  http://www.adab.com/modules.php?name=Sh3er&doW...       فصحى   \n",
            "4    65550  http://www.adab.com/modules.php?name=Sh3er&doW...       فصحى   \n",
            "\n",
            "                                           poem_text      poem_title poet_cat  \\\n",
            "0  عيناك غابتا نخيل ساعة السحر او شرفتان راح يناي...   أنشودة المطر    العراق   \n",
            "1   انا لا ازال و في يدي قدحي ياليل اين تفرق الشر...  أقداح و أحلام    العراق   \n",
            "2   علي مقلتيك ارتشفت النجوم وعانقت امالي الايبة ...     هوى واحد !    العراق   \n",
            "3  اساطير من حشرجات الزمان نسيج اليد البالية رواه...         أساطير    العراق   \n",
            "4  والتف حولك ساعداي ومال جيدك في اشتهاء كالزهرة ...  اللقاء الأخير    العراق   \n",
            "\n",
            "   poet_id                                          poet_link        poet_name  \n",
            "0        2  http://www.adab.com/modules.php?name=Sh3er&doW...  بدر شاكر السياب  \n",
            "1        2  http://www.adab.com/modules.php?name=Sh3er&doW...  بدر شاكر السياب  \n",
            "2        2  http://www.adab.com/modules.php?name=Sh3er&doW...  بدر شاكر السياب  \n",
            "3        2  http://www.adab.com/modules.php?name=Sh3er&doW...  بدر شاكر السياب  \n",
            "4        2  http://www.adab.com/modules.php?name=Sh3er&doW...  بدر شاكر السياب  \n"
          ]
        }
      ]
    },
    {
      "cell_type": "code",
      "source": [
        "data['poem_text'][0]"
      ],
      "metadata": {
        "id": "etl_1VJ6X2aj",
        "colab": {
          "base_uri": "https://localhost:8080/",
          "height": 87
        },
        "outputId": "817cd32e-ae51-4bcf-816d-9fd63db87e5b"
      },
      "execution_count": 75,
      "outputs": [
        {
          "output_type": "execute_result",
          "data": {
            "text/plain": [
              "'عيناك غابتا نخيل ساعة السحر او شرفتان راح يناي عنهما القمر عيناك حين تبسمان تورق الكروم وترقص الاضواء كالاقمار في نهر يرجه المجذاف وهنا ساعة السحر كانما تنبض في غوريهما النجوم وتغرقان في ضباب من اسي شفيف كالبحر سرح اليدين فوقه المساء دفء الشتاء فيه وارتعاشة الخريف والموت والميلاد والظلام والضياء فتستفيق ملء روحي رعشة البكاء ونشوة وحشية تعانق السماء كنشوة الطفل اذا خاف من القمر كان اقواس السحاب تشرب الغيوم وقطرة فقطرة تذوب في المطر وكركر الاطفال في عراءش الكروم ودغدغت صمت العصافير علي الشجر انشودة المطر مطر مطر مطر تثاءب المساء والغيوم ما تزال تسح ما تسح من دموعها الثقال كان طفلا بات يهذي قبل ان ينام بان امه – التي افاق منذ عام فلم يجدها ثم حين لج في السءال قالوا له \"بعد غد تعود \" لا بد ان تعود وان تهامس الرفاق انها هناك في جانب التل تنام نومة الحود تسف من ترابها وتشرب المطر كان صيادا حزينا يجمع الشباك ويلعن المياه والقدر وينثر الغناء حيث يافل القمر مطر مطر اتعلمين اي حزن يبعث المطر وكيف تنشج المزاريب اذا انهمر وكيف يشعر الوحيد فيه بالضياع بلا انتهاء – كالدم المراق كالجياع كالحب كالاطفال كالموتي – هو المطر ومقلتاك بي تطيفان مع المطر وعبر امواج الخليج تمسح البروق سواحل العراق بالنجوم والمحار كانها تهم بالشروق فيسحب اليل عليها من دم دثار اصيح بالخليج \" يا خليج يا واهب الءلء والمحار والردي \" فيرجع الصدي كانه النشيج \" يا خليج يا واهب المحار والردي \" اكاد اسمع العراق يذخر الرعود ويخزن البروق في السهول والجبال حتي اذا ما فض عنها ختمها الرجال لم ترك الرياح من ثمود في الواد من اثر اكاد اسمع النخيل يشرب المطر واسمع القري تءن والمهاجرين يصارعون بالمجاذيف وبالقلوع عواصف الخليج والرعود منشدين \" مطر مطر مطر وفي العراق جوع وينثر الغلال فيه موسم الحصاد لتشبع الغربان والجراد وتطحن الشوان والحجر رحي تدور في الحقول حولها بشر مطر مطر مطر وكم ذرفنا ليلة الرحيل من دموع ثم اعتلنا – خوف ان نلام – بالمطر مطر مطر ومنذ ان كنا صغارا كانت السماء تغيم في الشتاء ويهطل المطر وكل عام – حين يعشب الثري – نجوع ما مر عام والعراق ليس فيه جوع مطر مطر مطر في كل قطرة من المطر حمراء او صفراء من اجنة الزهر وكل دمعة من الجياع والعراة وكل قطرة تراق من دم العبيد فهي ابتسام في انتظار مبسم جديد او حلمة توردت علي فم الوليد في عالم الغد الفتي واهب الحياة مطر مطر مطر سيعشب العراق بالمطر \" اصيح بالخليج \" يا خليج يا واهب الءلء والمحار والردي \" فيرجع الصدي كانه النشيج \" يا خليج يا واهب المحار والردي \" وينثر الخليج من هباته الكثار علي الرمال رغوه الاجاج والمحار وما تبقي من عظام باءس غريق من المهاجرين ظل يشرب الردي من لجة الخليج والقرار وفي العراق الف افعي تشرب الرحيق من زهرة يربها الفرات بالندي واسمع الصدي يرن في الخليج \" مطر مطر مطر في كل قطرة من المطر حمراء او صفراء من اجنة الزهر وكل دمعة من الجياع والعراة وكل قطرة تراق من دم العبيد فهي ابتسام في انتظار مبسم جديد او حلمة توردت علي فم الوليد في عالم الغد الفتي واهب الحياة \" ويهطل المطر '"
            ],
            "application/vnd.google.colaboratory.intrinsic+json": {
              "type": "string"
            }
          },
          "metadata": {},
          "execution_count": 75
        }
      ]
    },
    {
      "cell_type": "code",
      "source": [
        "data.isnull().sum()"
      ],
      "metadata": {
        "id": "d3SL6uA8XiWF",
        "colab": {
          "base_uri": "https://localhost:8080/",
          "height": 366
        },
        "outputId": "2d462af6-907a-4e2d-a1ea-e48b7f22ad7b"
      },
      "execution_count": 76,
      "outputs": [
        {
          "output_type": "execute_result",
          "data": {
            "text/plain": [
              "poem_id       0\n",
              "poem_link     0\n",
              "poem_style    0\n",
              "poem_text     1\n",
              "poem_title    0\n",
              "poet_cat      0\n",
              "poet_id       0\n",
              "poet_link     0\n",
              "poet_name     0\n",
              "dtype: int64"
            ],
            "text/html": [
              "<div>\n",
              "<style scoped>\n",
              "    .dataframe tbody tr th:only-of-type {\n",
              "        vertical-align: middle;\n",
              "    }\n",
              "\n",
              "    .dataframe tbody tr th {\n",
              "        vertical-align: top;\n",
              "    }\n",
              "\n",
              "    .dataframe thead th {\n",
              "        text-align: right;\n",
              "    }\n",
              "</style>\n",
              "<table border=\"1\" class=\"dataframe\">\n",
              "  <thead>\n",
              "    <tr style=\"text-align: right;\">\n",
              "      <th></th>\n",
              "      <th>0</th>\n",
              "    </tr>\n",
              "  </thead>\n",
              "  <tbody>\n",
              "    <tr>\n",
              "      <th>poem_id</th>\n",
              "      <td>0</td>\n",
              "    </tr>\n",
              "    <tr>\n",
              "      <th>poem_link</th>\n",
              "      <td>0</td>\n",
              "    </tr>\n",
              "    <tr>\n",
              "      <th>poem_style</th>\n",
              "      <td>0</td>\n",
              "    </tr>\n",
              "    <tr>\n",
              "      <th>poem_text</th>\n",
              "      <td>1</td>\n",
              "    </tr>\n",
              "    <tr>\n",
              "      <th>poem_title</th>\n",
              "      <td>0</td>\n",
              "    </tr>\n",
              "    <tr>\n",
              "      <th>poet_cat</th>\n",
              "      <td>0</td>\n",
              "    </tr>\n",
              "    <tr>\n",
              "      <th>poet_id</th>\n",
              "      <td>0</td>\n",
              "    </tr>\n",
              "    <tr>\n",
              "      <th>poet_link</th>\n",
              "      <td>0</td>\n",
              "    </tr>\n",
              "    <tr>\n",
              "      <th>poet_name</th>\n",
              "      <td>0</td>\n",
              "    </tr>\n",
              "  </tbody>\n",
              "</table>\n",
              "</div><br><label><b>dtype:</b> int64</label>"
            ]
          },
          "metadata": {},
          "execution_count": 76
        }
      ]
    },
    {
      "cell_type": "code",
      "source": [
        "data= data.dropna()"
      ],
      "metadata": {
        "id": "G1RN56lYXoXg"
      },
      "execution_count": 77,
      "outputs": []
    },
    {
      "cell_type": "code",
      "source": [
        "data.isnull().sum()"
      ],
      "metadata": {
        "id": "fp8MJkg1XuhG",
        "colab": {
          "base_uri": "https://localhost:8080/",
          "height": 366
        },
        "outputId": "087f58b3-f09c-4ff8-9c79-0549ed3b014a"
      },
      "execution_count": 78,
      "outputs": [
        {
          "output_type": "execute_result",
          "data": {
            "text/plain": [
              "poem_id       0\n",
              "poem_link     0\n",
              "poem_style    0\n",
              "poem_text     0\n",
              "poem_title    0\n",
              "poet_cat      0\n",
              "poet_id       0\n",
              "poet_link     0\n",
              "poet_name     0\n",
              "dtype: int64"
            ],
            "text/html": [
              "<div>\n",
              "<style scoped>\n",
              "    .dataframe tbody tr th:only-of-type {\n",
              "        vertical-align: middle;\n",
              "    }\n",
              "\n",
              "    .dataframe tbody tr th {\n",
              "        vertical-align: top;\n",
              "    }\n",
              "\n",
              "    .dataframe thead th {\n",
              "        text-align: right;\n",
              "    }\n",
              "</style>\n",
              "<table border=\"1\" class=\"dataframe\">\n",
              "  <thead>\n",
              "    <tr style=\"text-align: right;\">\n",
              "      <th></th>\n",
              "      <th>0</th>\n",
              "    </tr>\n",
              "  </thead>\n",
              "  <tbody>\n",
              "    <tr>\n",
              "      <th>poem_id</th>\n",
              "      <td>0</td>\n",
              "    </tr>\n",
              "    <tr>\n",
              "      <th>poem_link</th>\n",
              "      <td>0</td>\n",
              "    </tr>\n",
              "    <tr>\n",
              "      <th>poem_style</th>\n",
              "      <td>0</td>\n",
              "    </tr>\n",
              "    <tr>\n",
              "      <th>poem_text</th>\n",
              "      <td>0</td>\n",
              "    </tr>\n",
              "    <tr>\n",
              "      <th>poem_title</th>\n",
              "      <td>0</td>\n",
              "    </tr>\n",
              "    <tr>\n",
              "      <th>poet_cat</th>\n",
              "      <td>0</td>\n",
              "    </tr>\n",
              "    <tr>\n",
              "      <th>poet_id</th>\n",
              "      <td>0</td>\n",
              "    </tr>\n",
              "    <tr>\n",
              "      <th>poet_link</th>\n",
              "      <td>0</td>\n",
              "    </tr>\n",
              "    <tr>\n",
              "      <th>poet_name</th>\n",
              "      <td>0</td>\n",
              "    </tr>\n",
              "  </tbody>\n",
              "</table>\n",
              "</div><br><label><b>dtype:</b> int64</label>"
            ]
          },
          "metadata": {},
          "execution_count": 78
        }
      ]
    },
    {
      "cell_type": "code",
      "source": [
        "data.duplicated().sum()"
      ],
      "metadata": {
        "id": "UPg3-0QGYERw",
        "colab": {
          "base_uri": "https://localhost:8080/"
        },
        "outputId": "78106d49-0540-4270-e3b0-3df60ffe6b38"
      },
      "execution_count": 79,
      "outputs": [
        {
          "output_type": "execute_result",
          "data": {
            "text/plain": [
              "0"
            ]
          },
          "metadata": {},
          "execution_count": 79
        }
      ]
    },
    {
      "cell_type": "code",
      "source": [
        "import seaborn as sns\n",
        "import matplotlib.pyplot as plt\n",
        "\n",
        "# Count the number of poems per style\n",
        "style_counts = data['poem_style'].value_counts()\n",
        "sns.barplot(x=style_counts.index, y=style_counts.values)\n",
        "plt.title('Distribution of Poem Styles')\n",
        "plt.xlabel('Poem Style')\n",
        "plt.ylabel('Number of Poems')\n",
        "plt.show()"
      ],
      "metadata": {
        "id": "zCyMEIJyYMbn",
        "colab": {
          "base_uri": "https://localhost:8080/",
          "height": 472
        },
        "outputId": "a61aff36-931c-440f-91cf-d46e9f290156"
      },
      "execution_count": 80,
      "outputs": [
        {
          "output_type": "display_data",
          "data": {
            "text/plain": [
              "<Figure size 640x480 with 1 Axes>"
            ],
            "image/png": "[encoded data removed]"
          },
          "metadata": {}
        }
      ]
    },
    {
      "cell_type": "code",
      "source": [
        "# Count the number of poems per poet\n",
        "poet_counts = data['poet_name'].value_counts()\n",
        "top_poets = poet_counts.head(15)\n",
        "# Plot the top poets\n",
        "sns.barplot(x=top_poets.index, y=top_poets.values, palette='plasma')\n",
        "plt.title('Top 15 Poets by Number of Poems')\n",
        "plt.xlabel('Poet Name')\n",
        "plt.ylabel('Number of Poems')\n",
        "plt.xticks(rotation=45)\n",
        "plt.show()"
      ],
      "metadata": {
        "id": "gkqrlQ9kYfy-",
        "colab": {
          "base_uri": "https://localhost:8080/",
          "height": 668
        },
        "outputId": "79ac1ac1-d8ea-4b41-898a-3240ad383eb8"
      },
      "execution_count": 81,
      "outputs": [
        {
          "output_type": "stream",
          "name": "stderr",
          "text": [
            "<ipython-input-81-fdedaa0e5e68>:5: FutureWarning: \n",
            "\n",
            "Passing `palette` without assigning `hue` is deprecated and will be removed in v0.14.0. Assign the `x` variable to `hue` and set `legend=False` for the same effect.\n",
            "\n",
            "  sns.barplot(x=top_poets.index, y=top_poets.values, palette='plasma')\n"
          ]
        },
        {
          "output_type": "display_data",
          "data": {
            "text/plain": [
              "<Figure size 640x480 with 1 Axes>"
            ],
            "image/png": "[encoded data removed]"
          },
          "metadata": {}
        }
      ]
    },
    {
      "cell_type": "code",
      "source": [
        "# Count the number of poems per poet\n",
        "poet_counts = data['poet_cat'].value_counts()\n",
        "top_poets = poet_counts.head(10)\n",
        "\n",
        "# Plot the top poets\n",
        "plt.figure(figsize=(12, 8))\n",
        "sns.barplot(x=top_poets.index, y=top_poets.values, palette='plasma')\n",
        "plt.title('Top 10 Poets by Number of Poems')\n",
        "plt.xlabel('Poet Cat')\n",
        "plt.ylabel('Number of Poems')\n",
        "plt.xticks(rotation=90)\n",
        "plt.show()"
      ],
      "metadata": {
        "id": "j_Cf2a1OZH--",
        "colab": {
          "base_uri": "https://localhost:8080/",
          "height": 913
        },
        "outputId": "5e239f67-ab48-4b04-ad86-82135820a38a"
      },
      "execution_count": 82,
      "outputs": [
        {
          "output_type": "stream",
          "name": "stderr",
          "text": [
            "<ipython-input-82-54aa6ebfc3f2>:7: FutureWarning: \n",
            "\n",
            "Passing `palette` without assigning `hue` is deprecated and will be removed in v0.14.0. Assign the `x` variable to `hue` and set `legend=False` for the same effect.\n",
            "\n",
            "  sns.barplot(x=top_poets.index, y=top_poets.values, palette='plasma')\n"
          ]
        },
        {
          "output_type": "display_data",
          "data": {
            "text/plain": [
              "<Figure size 1200x800 with 1 Axes>"
            ],
            "image/png": "[encoded data removed]"
          },
          "metadata": {}
        }
      ]
    },
    {
      "cell_type": "code",
      "source": [
        "#  Poem Length Distribution\n",
        "plt.figure(figsize=(10, 6))\n",
        "data['poem_length'] = data['poem_text'].str.len()\n",
        "sns.histplot(data['poem_length'], kde=True, bins=30, color='skyblue') #Added KDE and changed color\n",
        "plt.title('Distribution of Poem Lengths', fontsize=14)\n",
        "plt.xlabel('Poem Length (Characters)', fontsize=12)\n",
        "plt.ylabel('Number of Poems', fontsize=12)\n",
        "plt.show()\n"
      ],
      "metadata": {
        "id": "lXYsqZogKvSN",
        "colab": {
          "base_uri": "https://localhost:8080/",
          "height": 569
        },
        "outputId": "fbe7c0ef-a2ab-461e-da21-0e8cca71f119"
      },
      "execution_count": 83,
      "outputs": [
        {
          "output_type": "display_data",
          "data": {
            "text/plain": [
              "<Figure size 1000x600 with 1 Axes>"
            ],
            "image/png": "[encoded data removed]"
          },
          "metadata": {}
        }
      ]
    },
    {
      "cell_type": "code",
      "source": [
        "# Preprocessing\n",
        "def preprocess_text(text, vocabulary):\n",
        "    \"\"\"\n",
        "    Preprocess text by removing diacritics, punctuation, non-Arabic characters, and normalizing.\n",
        "    Replace out-of-vocabulary words with <UNK>.\n",
        "    \"\"\"\n",
        "    # Remove Arabic diacritics\n",
        "    arabic_diacritics = re.compile(\"[\\u064B-\\u0652]\")\n",
        "    text = re.sub(arabic_diacritics, \"\", text)\n",
        "\n",
        "    # Normalize Arabic letters\n",
        "    text = text.replace(\"\\u0649\", \"\\u064A\").replace(\"\\u0629\", \"\\u0647\")\n",
        "\n",
        "    # Remove non-Arabic characters and punctuation\n",
        "    text = re.sub(r\"[^\\u0621-\\u064A\\s]\", \"\", text)\n",
        "\n",
        "    # Replace numbers with <NUM> tag\n",
        "    text = re.sub(r\"\\d+\", \"<NUM>\", text)\n",
        "\n",
        "    # Replace concatenated \"و\" (Waw)\n",
        "    text = re.sub(r\"(\\bو)([\\u0621-\\u064A]+)\", r\"\\1 \\2\", text)\n",
        "\n",
        "    # Replace out-of-vocabulary words with <UNK>\n",
        "    text = \" \".join([word if word in vocabulary else \"<UNK>\" for word in text.split()])\n",
        "\n",
        "    # Remove extra spaces\n",
        "    text = re.sub(r\"\\s+\", \" \", text).strip()\n",
        "\n",
        "    return text"
      ],
      "metadata": {
        "id": "0lXDCwKaaPcy"
      },
      "execution_count": 84,
      "outputs": []
    },
    {
      "cell_type": "code",
      "source": [
        "# Build a vocabulary (example: using most frequent words from the dataset)\n",
        "all_words = \" \".join(data['poem_text'].dropna()).split()\n",
        "word_freq = pd.Series(all_words).value_counts()\n",
        "vocabulary = set(word_freq[word_freq > 5].index)  # Keep words with frequency > 5\n",
        "\n",
        "print(\"\\nVocabulary size:\", len(vocabulary))"
      ],
      "metadata": {
        "id": "JYfLRt3zqHqa",
        "colab": {
          "base_uri": "https://localhost:8080/"
        },
        "outputId": "bc6f72b2-6976-42ca-d695-32806a36a1ce"
      },
      "execution_count": 85,
      "outputs": [
        {
          "output_type": "stream",
          "name": "stdout",
          "text": [
            "\n",
            "Vocabulary size: 116462\n"
          ]
        }
      ]
    },
    {
      "cell_type": "code",
      "source": [
        "# Apply preprocessing to the \"poem_text\" column\n",
        "data['cleaned_text'] = data['poem_text'].apply(lambda x: preprocess_text(x, vocabulary) if pd.notnull(x) else \"\")\n",
        "\n",
        "# Display a few samples of preprocessed text\n",
        "print(\"\\nPreprocessed text samples:\\n\", data[['poem_text', 'cleaned_text']].head())"
      ],
      "metadata": {
        "id": "kClL85DWqO5Q",
        "colab": {
          "base_uri": "https://localhost:8080/"
        },
        "outputId": "9acd7f8c-3844-4768-c271-d0db7350b890"
      },
      "execution_count": 86,
      "outputs": [
        {
          "output_type": "stream",
          "name": "stdout",
          "text": [
            "\n",
            "Preprocessed text samples:\n",
            "                                            poem_text  \\\n",
            "0  عيناك غابتا نخيل ساعة السحر او شرفتان راح يناي...   \n",
            "1   انا لا ازال و في يدي قدحي ياليل اين تفرق الشر...   \n",
            "2   علي مقلتيك ارتشفت النجوم وعانقت امالي الايبة ...   \n",
            "3  اساطير من حشرجات الزمان نسيج اليد البالية رواه...   \n",
            "4  والتف حولك ساعداي ومال جيدك في اشتهاء كالزهرة ...   \n",
            "\n",
            "                                        cleaned_text  \n",
            "0  عيناك <UNK> نخيل ساعه السحر او <UNK> راح يناي ...  \n",
            "1  انا لا ازال و في يدي قدحي ياليل اين تفرق الشرب...  \n",
            "2  علي مقلتيك ارتشفت النجوم و عانقت امالي <UNK> و...  \n",
            "3  اساطير من حشرجات الزمان نسيج اليد الباليه رواه...  \n",
            "4  و التف حولك <UNK> و مال جيدك في اشتهاء <UNK> ا...  \n"
          ]
        }
      ]
    },
    {
      "cell_type": "code",
      "source": [
        "# Sub-dataset Selection\n",
        "nizar_poems = data[data['poet_name'].str.contains(\"نزار قباني\", na=False)]\n",
        "nizar_poems = nizar_poems[nizar_poems['cleaned_text'].apply(lambda x: len(set(x.split())) <= 10000)]\n",
        "nizar_poems.to_csv('nizar_10000.csv', index=False)\n",
        "print(\"\\nSaved sub-dataset with\", len(nizar_poems), \"poems.\")"
      ],
      "metadata": {
        "id": "41oKp8oWdMKl",
        "colab": {
          "base_uri": "https://localhost:8080/"
        },
        "outputId": "2dcc3994-0536-4c7b-ae51-dc7cc3f86239"
      },
      "execution_count": 87,
      "outputs": [
        {
          "output_type": "stream",
          "name": "stdout",
          "text": [
            "\n",
            "Saved sub-dataset with 605 poems.\n"
          ]
        }
      ]
    },
    {
      "cell_type": "code",
      "source": [
        "from gensim.models import Word2Vec\n",
        "# Word Embedding\n",
        "nizar_poems['tokenized_text'] = nizar_poems['cleaned_text'].apply(lambda x: x.split())\n",
        "\n",
        "# Prepare a list of tokenized sentences for Word2Vec\n",
        "sentences = nizar_poems['tokenized_text'].tolist()\n",
        "\n",
        "# Train a Word2Vec model\n",
        "print(\"\\nTraining Word2Vec model...\")\n",
        "word2vec_model = Word2Vec(sentences, vector_size=100, window=5, min_count=5, workers=4)\n",
        "\n",
        "# Save the Word2Vec model\n",
        "word2vec_model.save(\"arabic_word2vec.model\")\n",
        "print(\"Word2Vec model trained and saved.\")\n"
      ],
      "metadata": {
        "id": "4jwuBRTSqmv5",
        "colab": {
          "base_uri": "https://localhost:8080/"
        },
        "outputId": "da784c58-a0a8-4fdf-8dfc-1a353039e621"
      },
      "execution_count": 88,
      "outputs": [
        {
          "output_type": "stream",
          "name": "stdout",
          "text": [
            "\n",
            "Training Word2Vec model...\n",
            "Word2Vec model trained and saved.\n"
          ]
        }
      ]
    },
    {
      "cell_type": "code",
      "source": [
        "#Finding similar words\n",
        "word = \"الحب\"\n",
        "if word in word2vec_model.wv:\n",
        "    similar_words = word2vec_model.wv.most_similar(word, topn=10)\n",
        "    print(f\"\\nWords similar to '{word}':\")\n",
        "    for similar_word, similarity in similar_words:\n",
        "        print(f\"{similar_word}: {similarity}\")\n",
        "else:\n",
        "    print(f\"\\nThe word '{word}' is not in the Word2Vec vocabulary.\")"
      ],
      "metadata": {
        "id": "mdjHbU_BqvMx",
        "colab": {
          "base_uri": "https://localhost:8080/"
        },
        "outputId": "9891ec90-99d4-4d1e-c322-184230b8c7c0"
      },
      "execution_count": 89,
      "outputs": [
        {
          "output_type": "stream",
          "name": "stdout",
          "text": [
            "\n",
            "Words similar to 'الحب':\n",
            "البحر: 0.9996519088745117\n",
            "مع: 0.9996446371078491\n",
            "اله: 0.9996368885040283\n",
            "فلا: 0.9996238350868225\n",
            "جميع: 0.99953693151474\n",
            "اليل: 0.9995291829109192\n",
            "النساء: 0.9994943141937256\n",
            "نحن: 0.9994933009147644\n",
            "قد: 0.9994744062423706\n",
            "كانت: 0.9994655847549438\n"
          ]
        }
      ]
    },
    {
      "cell_type": "code",
      "source": [
        "import tensorflow as tf\n",
        "from tensorflow.keras.models import Sequential\n",
        "from tensorflow.keras.layers import Embedding, Bidirectional, LSTM, Dense, Dropout\n",
        "from tensorflow.keras.preprocessing.text import Tokenizer\n",
        "from tensorflow.keras.preprocessing.sequence import pad_sequences\n",
        "import numpy as np\n",
        "from keras.utils import to_categorical\n",
        "from sklearn.model_selection import train_test_split\n"
      ],
      "metadata": {
        "id": "Otw_9g5aubvJ"
      },
      "execution_count": 90,
      "outputs": []
    },
    {
      "cell_type": "code",
      "source": [
        "# Model Setup\n",
        "sequence_lengths = [1, 2, 5, 10]\n",
        "models = {}\n",
        "\n",
        "for seq_len in sequence_lengths:\n",
        "    print(f\"\\nPreparing sequences for Model_{seq_len}...\")\n",
        "\n",
        "    # Encode sequences\n",
        "    def encode_sequences(sentences, sequence_length, vocab_to_index):\n",
        "        sequences, next_words = [], []\n",
        "        for sentence in sentences:\n",
        "            encoded = [vocab_to_index.get(word, vocab_to_index[\"<UNK>\"]) for word in sentence]\n",
        "            for i in range(len(encoded) - sequence_length):\n",
        "                sequences.append(encoded[i:i + sequence_length])\n",
        "                next_words.append(encoded[i + sequence_length])\n",
        "        return np.array(sequences), np.array(next_words)\n",
        "\n",
        "    vocab_to_index = {word: idx for idx, word in enumerate(vocabulary, start=1)}\n",
        "    vocab_to_index[\"<UNK>\"] = 0\n",
        "\n",
        "    X, y = encode_sequences(sentences, seq_len, vocab_to_index)\n",
        "\n",
        "    # Build LSTM model\n",
        "    def build_lstm_model(sequence_length, vocab_size):\n",
        "        model = Sequential()\n",
        "        model.add(Embedding(vocab_size, 128, input_length=sequence_length)) # The Embedding layer will learn the word embeddings during training (i.e., it will assign a dense vector to each word index).\n",
        "        model.add(Bidirectional(LSTM(256, activation='relu')))\n",
        "        model.add(Dropout(0.6))\n",
        "        model.add(Dense(vocab_size, activation='softmax'))\n",
        "        model.compile(optimizer='adam', loss='sparse_categorical_crossentropy', metrics=['accuracy'])\n",
        "        return model\n",
        "\n",
        "    model = build_lstm_model(seq_len, len(vocab_to_index))\n",
        "\n",
        "    # Train-test split\n",
        "    X_train, X_test, y_train, y_test = train_test_split(X, y, test_size=0.2, random_state=42)\n",
        "\n",
        "    # Train the model\n",
        "    print(f\"\\nTraining Model_{seq_len}...\")\n",
        "    model.fit(X_train, y_train, validation_data=(X_test, y_test), epochs=1, batch_size=64)\n",
        "    model.save(f\"nizar_poetry_lstm_seq_{seq_len}.h5\")\n",
        "    print(f\"Model_{seq_len} trained and saved.\")\n",
        "    models[seq_len] = model\n",
        "\n",
        "def generate_text(model, vocab_to_index, index_to_vocab, seed_text, max_words=4):\n",
        "    \"\"\"\n",
        "    Generate text given a seed text using the trained model.\n",
        "    \"\"\"\n",
        "    generated_words = seed_text.split()\n",
        "    for _ in range(max_words):\n",
        "        input_seq = [vocab_to_index.get(word, vocab_to_index[\"<UNK>\"]) for word in generated_words[-seq_len:]]\n",
        "        input_seq = np.array(input_seq).reshape(1, -1)\n",
        "        predictions = model.predict(input_seq, verbose=0)\n",
        "        next_word_idx = np.argmax(predictions)\n",
        "        next_word = index_to_vocab.get(next_word_idx, \"<UNK>\")\n",
        "        if next_word == \"<UNK>\":\n",
        "            break\n",
        "        generated_words.append(next_word)\n",
        "    return \" \".join(generated_words)\n",
        "index_to_vocab = {idx: word for word, idx in vocab_to_index.items()}\n",
        "seed_text = \"عيناك نور الحياة\"\n",
        "generated_results = []\n",
        "\n",
        "for seq_len, model in models.items():\n",
        "    print(f\"\\nGenerating text for Model_{seq_len}...\")\n",
        "    generated_text = generate_text(model, vocab_to_index, index_to_vocab, seed_text, max_words=4)\n",
        "    print(f\"Generated text for Model_{seq_len}: {generated_text}\")\n",
        "    generated_results.append((f\"Model_{seq_len}\", generated_text))\n",
        "def calculate_log_probability(text, model, vocab_to_index):\n",
        "    \"\"\"\n",
        "    Calculate the log probability of a generated sentence.\n",
        "    \"\"\"\n",
        "    words = text.split()\n",
        "    log_prob = 0\n",
        "    for i in range(1, len(words)):\n",
        "        input_seq = [vocab_to_index.get(word, vocab_to_index[\"<UNK>\"]) for word in words[:i]]\n",
        "        input_seq = np.array(input_seq).reshape(1, -1)\n",
        "        probs = model.predict(input_seq, verbose=0)\n",
        "        next_word_idx = vocab_to_index.get(words[i], vocab_to_index[\"<UNK>\"])\n",
        "        log_prob += np.log10(probs[0][next_word_idx])\n",
        "    return log_prob\n",
        "for model_name, text in generated_results:\n",
        "    seq_len = int(model_name.split('_')[1])\n",
        "    model = models[seq_len]\n",
        "    log_prob = calculate_log_probability(text, model, vocab_to_index)\n",
        "    print(f\"Log probability for {model_name}: {log_prob:.3f}\")"
      ],
      "metadata": {
        "colab": {
          "base_uri": "https://localhost:8080/"
        },
        "id": "9gdRUD9UPSqd",
        "outputId": "ec50f0cf-4932-4c11-da52-8718a94ea26e"
      },
      "execution_count": 91,
      "outputs": [
        {
          "output_type": "stream",
          "name": "stdout",
          "text": [
            "\n",
            "Preparing sequences for Model_1...\n"
          ]
        },
        {
          "output_type": "stream",
          "name": "stderr",
          "text": [
            "/usr/local/lib/python3.10/dist-packages/keras/src/layers/core/embedding.py:90: UserWarning: Argument `input_length` is deprecated. Just remove it.\n",
            "  warnings.warn(\n"
          ]
        },
        {
          "output_type": "stream",
          "name": "stdout",
          "text": [
            "\n",
            "Training Model_1...\n",
            "\u001b[1m1415/1415\u001b[0m \u001b[32m━━━━━━━━━━━━━━━━━━━━\u001b[0m\u001b[37m\u001b[0m \u001b[1m2832s\u001b[0m 2s/step - accuracy: 0.1104 - loss: 8.9117 - val_accuracy: 0.1303 - val_loss: 7.4601\n"
          ]
        },
        {
          "output_type": "stream",
          "name": "stderr",
          "text": [
            "WARNING:absl:You are saving your model as an HDF5 file via `model.save()` or `keras.saving.save_model(model)`. This file format is considered legacy. We recommend using instead the native Keras format, e.g. `model.save('my_model.keras')` or `keras.saving.save_model(model, 'my_model.keras')`. \n"
          ]
        },
        {
          "output_type": "stream",
          "name": "stdout",
          "text": [
            "Model_1 trained and saved.\n",
            "\n",
            "Preparing sequences for Model_2...\n",
            "\n",
            "Training Model_2...\n",
            "\u001b[1m1407/1407\u001b[0m \u001b[32m━━━━━━━━━━━━━━━━━━━━\u001b[0m\u001b[37m\u001b[0m \u001b[1m2906s\u001b[0m 2s/step - accuracy: 0.1066 - loss: 8.5681 - val_accuracy: 0.1299 - val_loss: 7.5226\n"
          ]
        },
        {
          "output_type": "stream",
          "name": "stderr",
          "text": [
            "WARNING:absl:You are saving your model as an HDF5 file via `model.save()` or `keras.saving.save_model(model)`. This file format is considered legacy. We recommend using instead the native Keras format, e.g. `model.save('my_model.keras')` or `keras.saving.save_model(model, 'my_model.keras')`. \n"
          ]
        },
        {
          "output_type": "stream",
          "name": "stdout",
          "text": [
            "Model_2 trained and saved.\n",
            "\n",
            "Preparing sequences for Model_5...\n",
            "\n",
            "Training Model_5...\n",
            "\u001b[1m1385/1385\u001b[0m \u001b[32m━━━━━━━━━━━━━━━━━━━━\u001b[0m\u001b[37m\u001b[0m \u001b[1m2930s\u001b[0m 2s/step - accuracy: 0.0993 - loss: 8.3755 - val_accuracy: 0.1202 - val_loss: 7.5690\n"
          ]
        },
        {
          "output_type": "stream",
          "name": "stderr",
          "text": [
            "WARNING:absl:You are saving your model as an HDF5 file via `model.save()` or `keras.saving.save_model(model)`. This file format is considered legacy. We recommend using instead the native Keras format, e.g. `model.save('my_model.keras')` or `keras.saving.save_model(model, 'my_model.keras')`. \n"
          ]
        },
        {
          "output_type": "stream",
          "name": "stdout",
          "text": [
            "Model_5 trained and saved.\n",
            "\n",
            "Preparing sequences for Model_10...\n",
            "\n",
            "Training Model_10...\n",
            "\u001b[1m1347/1347\u001b[0m \u001b[32m━━━━━━━━━━━━━━━━━━━━\u001b[0m\u001b[37m\u001b[0m \u001b[1m2906s\u001b[0m 2s/step - accuracy: 0.0993 - loss: 8.3834 - val_accuracy: 0.1210 - val_loss: 7.5444\n"
          ]
        },
        {
          "output_type": "stream",
          "name": "stderr",
          "text": [
            "WARNING:absl:You are saving your model as an HDF5 file via `model.save()` or `keras.saving.save_model(model)`. This file format is considered legacy. We recommend using instead the native Keras format, e.g. `model.save('my_model.keras')` or `keras.saving.save_model(model, 'my_model.keras')`. \n"
          ]
        },
        {
          "output_type": "stream",
          "name": "stdout",
          "text": [
            "Model_10 trained and saved.\n",
            "\n",
            "Generating text for Model_1...\n",
            "Generated text for Model_1: عيناك نور الحياة و\n",
            "\n",
            "Generating text for Model_2...\n",
            "Generated text for Model_2: عيناك نور الحياة و\n",
            "\n",
            "Generating text for Model_5...\n",
            "Generated text for Model_5: عيناك نور الحياة و\n",
            "\n",
            "Generating text for Model_10...\n"
          ]
        },
        {
          "output_type": "stream",
          "name": "stderr",
          "text": [
            "WARNING:tensorflow:5 out of the last 7 calls to <function TensorFlowTrainer.make_predict_function.<locals>.one_step_on_data_distributed at 0x784af215eb90> triggered tf.function retracing. Tracing is expensive and the excessive number of tracings could be due to (1) creating @tf.function repeatedly in a loop, (2) passing tensors with different shapes, (3) passing Python objects instead of tensors. For (1), please define your @tf.function outside of the loop. For (2), @tf.function has reduce_retracing=True option that can avoid unnecessary retracing. For (3), please refer to https://www.tensorflow.org/guide/function#controlling_retracing and https://www.tensorflow.org/api_docs/python/tf/function for  more details.\n",
            "WARNING:tensorflow:6 out of the last 8 calls to <function TensorFlowTrainer.make_predict_function.<locals>.one_step_on_data_distributed at 0x784af215eb90> triggered tf.function retracing. Tracing is expensive and the excessive number of tracings could be due to (1) creating @tf.function repeatedly in a loop, (2) passing tensors with different shapes, (3) passing Python objects instead of tensors. For (1), please define your @tf.function outside of the loop. For (2), @tf.function has reduce_retracing=True option that can avoid unnecessary retracing. For (3), please refer to https://www.tensorflow.org/guide/function#controlling_retracing and https://www.tensorflow.org/api_docs/python/tf/function for  more details.\n"
          ]
        },
        {
          "output_type": "stream",
          "name": "stdout",
          "text": [
            "Generated text for Model_10: عيناك نور الحياة و\n",
            "Log probability for Model_1: -13.706\n",
            "Log probability for Model_2: -10.142\n",
            "Log probability for Model_5: -11.798\n",
            "Log probability for Model_10: -12.540\n"
          ]
        }
      ]
    },
    {
      "cell_type": "code",
      "source": [
        "from keras.models import load_model\n",
        "\n",
        "def generate_text(model, vocab_to_index, index_to_vocab, seed_text, max_words=6):\n",
        "    \"\"\"\n",
        "    Generate text given a seed text using the trained model with temperature sampling.\n",
        "    \"\"\"\n",
        "    generated_words = seed_text.split()\n",
        "    for _ in range(max_words):\n",
        "        input_seq = [vocab_to_index.get(word, vocab_to_index[\"<UNK>\"]) for word in generated_words[-sequence_length:]]\n",
        "        input_seq = np.array(input_seq).reshape(1, -1)\n",
        "        predictions = model.predict(input_seq, verbose=0)[0]\n",
        "        predictions = softmax(predictions)\n",
        "        next_word_idx = np.random.choice(len(predictions), p=predictions)\n",
        "        next_word = index_to_vocab.get(next_word_idx, \"<UNK>\")\n",
        "        if next_word == \"<UNK>\":\n",
        "            break\n",
        "        generated_words.append(next_word)\n",
        "    return \" \".join(generated_words)\n",
        "\n",
        "# Load pre-trained models\n",
        "sequence_lengths = [1, 2, 5, 10]\n",
        "models = {}\n",
        "for seq_len in sequence_lengths:\n",
        "    model_path = f\"nizar_poetry_lstm_seq_{seq_len}.h5\"\n",
        "    print(f\"Loading model from {model_path}...\")\n",
        "    models[seq_len] = load_model(model_path)\n",
        "\n",
        "# Generate text for each model\n",
        "index_to_vocab = {idx: word for word, idx in vocab_to_index.items()}\n",
        "seed_text = \"عينيك\"\n",
        "generated_results = []\n",
        "\n",
        "for seq_len, model in models.items():\n",
        "    print(f\"\\nGenerating text for Model_{seq_len}...\")\n",
        "    generated_text = generate_text(model, vocab_to_index, index_to_vocab, seed_text, max_words=6)\n",
        "    print(f\"Generated text for Model_{seq_len}: {generated_text}\")\n",
        "    generated_results.append((f\"Model_{seq_len}\", generated_text))\n",
        "\n",
        "# Evaluation and Log Probabilities\n",
        "def calculate_log_probability(text, model, vocab_to_index):\n",
        "    \"\"\"\n",
        "    Calculate the log probability of a generated sentence.\n",
        "    \"\"\"\n",
        "    words = text.split()\n",
        "    log_prob = 0\n",
        "    for i in range(1, len(words)):\n",
        "        input_seq = [vocab_to_index.get(word, vocab_to_index[\"<UNK>\"]) for word in words[:i]]\n",
        "        input_seq = np.array(input_seq).reshape(1, -1)\n",
        "        probs = model.predict(input_seq, verbose=0)\n",
        "        next_word_idx = vocab_to_index.get(words[i], vocab_to_index[\"<UNK>\"])\n",
        "        log_prob += np.log10(probs[0][next_word_idx])\n",
        "    return log_prob\n",
        "\n",
        "# Log probability calculation\n",
        "for model_name, text in generated_results:\n",
        "    seq_len = int(model_name.split('_')[1])\n",
        "    model = models[seq_len]\n",
        "    log_prob = calculate_log_probability(text, model, vocab_to_index)\n",
        "    print(f\"Log probability for {model_name}: {log_prob:.3f}\")"
      ],
      "metadata": {
        "colab": {
          "base_uri": "https://localhost:8080/"
        },
        "id": "IUjYPtmDYAqO",
        "outputId": "4cee6be6-e73f-4d3a-dda5-fcc52251c05a"
      },
      "execution_count": 128,
      "outputs": [
        {
          "output_type": "stream",
          "name": "stdout",
          "text": [
            "Loading model from nizar_poetry_lstm_seq_1.h5...\n"
          ]
        },
        {
          "output_type": "stream",
          "name": "stderr",
          "text": [
            "WARNING:absl:Compiled the loaded model, but the compiled metrics have yet to be built. `model.compile_metrics` will be empty until you train or evaluate the model.\n"
          ]
        },
        {
          "output_type": "stream",
          "name": "stdout",
          "text": [
            "Loading model from nizar_poetry_lstm_seq_2.h5...\n"
          ]
        },
        {
          "output_type": "stream",
          "name": "stderr",
          "text": [
            "WARNING:absl:Compiled the loaded model, but the compiled metrics have yet to be built. `model.compile_metrics` will be empty until you train or evaluate the model.\n"
          ]
        },
        {
          "output_type": "stream",
          "name": "stdout",
          "text": [
            "Loading model from nizar_poetry_lstm_seq_5.h5...\n"
          ]
        },
        {
          "output_type": "stream",
          "name": "stderr",
          "text": [
            "WARNING:absl:Compiled the loaded model, but the compiled metrics have yet to be built. `model.compile_metrics` will be empty until you train or evaluate the model.\n"
          ]
        },
        {
          "output_type": "stream",
          "name": "stdout",
          "text": [
            "Loading model from nizar_poetry_lstm_seq_10.h5...\n"
          ]
        },
        {
          "output_type": "stream",
          "name": "stderr",
          "text": [
            "WARNING:absl:Compiled the loaded model, but the compiled metrics have yet to be built. `model.compile_metrics` will be empty until you train or evaluate the model.\n"
          ]
        },
        {
          "output_type": "stream",
          "name": "stdout",
          "text": [
            "\n",
            "Generating text for Model_1...\n",
            "Generated text for Model_1: عينيك السبات كمنجات تلمح يغضبه وعاثوا شيرين\n",
            "\n",
            "Generating text for Model_2...\n",
            "Generated text for Model_2: عينيك باعناق والفداء خراءب لكفر قتلاها صادم\n",
            "\n",
            "Generating text for Model_5...\n",
            "Generated text for Model_5: عينيك ومناي تهربين واملا مقتبس بمشيب يطلبه\n",
            "\n",
            "Generating text for Model_10...\n",
            "Generated text for Model_10: عينيك راعفا المءنث اوجهم اجواء رغيبة وتنقل\n",
            "Log probability for Model_1: -64.103\n",
            "Log probability for Model_2: -74.213\n",
            "Log probability for Model_5: -33.622\n",
            "Log probability for Model_10: -31.395\n"
          ]
        }
      ]
    },
    {
      "cell_type": "markdown",
      "source": [
        "# enhancements"
      ],
      "metadata": {
        "id": "zqCokPDyXJNJ"
      }
    },
    {
      "cell_type": "markdown",
      "source": [
        "#temperature sampling, allowing for more diverse and creative text predictions."
      ],
      "metadata": {
        "id": "TlPzACiFXL5v"
      }
    },
    {
      "cell_type": "markdown",
      "source": [
        "Adjust Temperature:\n",
        "\n",
        "- A lower temperature (e.g., 0.5) generates safer, more predictable text.\n",
        "- A higher temperature (e.g., 1.0) introduces more creativity."
      ],
      "metadata": {
        "id": "XPkIiIttd0Gn"
      }
    },
    {
      "cell_type": "code",
      "source": [
        "from keras.models import load_model\n",
        "\n",
        "# Text Generation with Temperature Sampling\n",
        "def softmax(x, temperature=1.0):\n",
        "    x = np.array(x)\n",
        "    x = x / temperature\n",
        "    exp_x = np.exp(x - np.max(x))\n",
        "    return exp_x / exp_x.sum(axis=0)\n",
        "\n",
        "def generate_text(model, vocab_to_index, index_to_vocab, seed_text, max_words=6, temperature=0.7):\n",
        "    \"\"\"\n",
        "    Generate text given a seed text using the trained model with temperature sampling.\n",
        "    \"\"\"\n",
        "    generated_words = seed_text.split()\n",
        "    for _ in range(max_words):\n",
        "        input_seq = [vocab_to_index.get(word, vocab_to_index[\"<UNK>\"]) for word in generated_words[-sequence_length:]]\n",
        "        input_seq = np.array(input_seq).reshape(1, -1)\n",
        "        predictions = model.predict(input_seq, verbose=0)[0]\n",
        "        predictions = softmax(predictions, temperature)\n",
        "        next_word_idx = np.random.choice(len(predictions), p=predictions)\n",
        "        next_word = index_to_vocab.get(next_word_idx, \"<UNK>\")\n",
        "        if next_word == \"<UNK>\":\n",
        "            break\n",
        "        generated_words.append(next_word)\n",
        "    return \" \".join(generated_words)\n",
        "\n",
        "# Load pre-trained models\n",
        "sequence_lengths = [1, 2, 5, 10]\n",
        "models = {}\n",
        "for seq_len in sequence_lengths:\n",
        "    model_path = f\"nizar_poetry_lstm_seq_{seq_len}.h5\"\n",
        "    print(f\"Loading model from {model_path}...\")\n",
        "    models[seq_len] = load_model(model_path)\n",
        "\n",
        "# Generate text for each model\n",
        "index_to_vocab = {idx: word for word, idx in vocab_to_index.items()}\n",
        "seed_text = \"عينيك\"\n",
        "generated_results = []\n",
        "\n",
        "for seq_len, model in models.items():\n",
        "    print(f\"\\nGenerating text for Model_{seq_len}...\")\n",
        "    generated_text = generate_text(model, vocab_to_index, index_to_vocab, seed_text, max_words=6, temperature=0.7)\n",
        "    print(f\"Generated text for Model_{seq_len}: {generated_text}\")\n",
        "    generated_results.append((f\"Model_{seq_len}\", generated_text))\n",
        "\n",
        "# Evaluation and Log Probabilities\n",
        "def calculate_log_probability(text, model, vocab_to_index):\n",
        "    \"\"\"\n",
        "    Calculate the log probability of a generated sentence.\n",
        "    \"\"\"\n",
        "    words = text.split()\n",
        "    log_prob = 0\n",
        "    for i in range(1, len(words)):\n",
        "        input_seq = [vocab_to_index.get(word, vocab_to_index[\"<UNK>\"]) for word in words[:i]]\n",
        "        input_seq = np.array(input_seq).reshape(1, -1)\n",
        "        probs = model.predict(input_seq, verbose=0)\n",
        "        next_word_idx = vocab_to_index.get(words[i], vocab_to_index[\"<UNK>\"])\n",
        "        log_prob += np.log10(probs[0][next_word_idx])\n",
        "    return log_prob\n",
        "\n",
        "# Log probability calculation\n",
        "for model_name, text in generated_results:\n",
        "    seq_len = int(model_name.split('_')[1])\n",
        "    model = models[seq_len]\n",
        "    log_prob = calculate_log_probability(text, model, vocab_to_index)\n",
        "    print(f\"Log probability for {model_name}: {log_prob:.3f}\")"
      ],
      "metadata": {
        "colab": {
          "base_uri": "https://localhost:8080/"
        },
        "id": "iFrcA1i1aXAZ",
        "outputId": "f3d06ace-c5bd-4a2e-851d-ed15fa2838b5"
      },
      "execution_count": 129,
      "outputs": [
        {
          "output_type": "stream",
          "name": "stdout",
          "text": [
            "Loading model from nizar_poetry_lstm_seq_1.h5...\n"
          ]
        },
        {
          "output_type": "stream",
          "name": "stderr",
          "text": [
            "WARNING:absl:Compiled the loaded model, but the compiled metrics have yet to be built. `model.compile_metrics` will be empty until you train or evaluate the model.\n"
          ]
        },
        {
          "output_type": "stream",
          "name": "stdout",
          "text": [
            "Loading model from nizar_poetry_lstm_seq_2.h5...\n"
          ]
        },
        {
          "output_type": "stream",
          "name": "stderr",
          "text": [
            "WARNING:absl:Compiled the loaded model, but the compiled metrics have yet to be built. `model.compile_metrics` will be empty until you train or evaluate the model.\n"
          ]
        },
        {
          "output_type": "stream",
          "name": "stdout",
          "text": [
            "Loading model from nizar_poetry_lstm_seq_5.h5...\n"
          ]
        },
        {
          "output_type": "stream",
          "name": "stderr",
          "text": [
            "WARNING:absl:Compiled the loaded model, but the compiled metrics have yet to be built. `model.compile_metrics` will be empty until you train or evaluate the model.\n"
          ]
        },
        {
          "output_type": "stream",
          "name": "stdout",
          "text": [
            "Loading model from nizar_poetry_lstm_seq_10.h5...\n"
          ]
        },
        {
          "output_type": "stream",
          "name": "stderr",
          "text": [
            "WARNING:absl:Compiled the loaded model, but the compiled metrics have yet to be built. `model.compile_metrics` will be empty until you train or evaluate the model.\n"
          ]
        },
        {
          "output_type": "stream",
          "name": "stdout",
          "text": [
            "\n",
            "Generating text for Model_1...\n",
            "Generated text for Model_1: عينيك بظلالها موفورا لرضاك البنت ياءسة شقيقتي\n",
            "\n",
            "Generating text for Model_2...\n",
            "Generated text for Model_2: عينيك عواقبه فطيما لغرة تسام مجوس واحساسي\n",
            "\n",
            "Generating text for Model_5...\n",
            "Generated text for Model_5: عينيك صك شهاده معشوق وياكل نزلتم مكارمهم\n",
            "\n",
            "Generating text for Model_10...\n",
            "Generated text for Model_10: عينيك بحاجته طهية فقاعة مخلوق يدنون وصالكم\n",
            "Log probability for Model_1: -63.715\n",
            "Log probability for Model_2: -70.662\n",
            "Log probability for Model_5: -32.584\n",
            "Log probability for Model_10: -31.398\n"
          ]
        }
      ]
    },
    {
      "cell_type": "markdown",
      "source": [
        "#Increase Training Epochs from 1 to 10 but this need 90 hours by GPU to running and we can consider using hyperparameter tuning techniques to find the best model configuration without overtraining."
      ],
      "metadata": {
        "id": "4V9simKVbb9n"
      }
    },
    {
      "cell_type": "markdown",
      "source": [
        "- Use GridSearchCV for a more exhaustive search over a small set of hyperparameters (e.g., for parameters that are critical for the model's performance).\n",
        "- Use RandomizedSearchCV for a wider and more random search over hyperparameters (e.g., for parameters where the search space is large).\n"
      ],
      "metadata": {
        "id": "cu-WGbuPeqnY"
      }
    },
    {
      "cell_type": "code",
      "source": [
        "from sklearn.model_selection import GridSearchCV, RandomizedSearchCV\n",
        "from keras.wrappers.scikit_learn import KerasClassifier\n",
        "import numpy as np\n",
        "\n",
        "# Function to create the LSTM model with activation as a parameter\n",
        "def create_model(embedding_dim=128, lstm_units=256, dropout_rate=0.6, activation='relu'):\n",
        "    model = Sequential()\n",
        "    model.add(Embedding(len(vocab_to_index), embedding_dim, input_length=seq_len))\n",
        "    model.add(Bidirectional(LSTM(lstm_units, activation=activation)))\n",
        "    model.add(Dropout(dropout_rate))\n",
        "    model.add(Dense(len(vocab_to_index), activation='softmax'))  # Dense layer typically uses softmax for classification\n",
        "    model.compile(optimizer='adam', loss='sparse_categorical_crossentropy', metrics=['accuracy'])\n",
        "    return model\n",
        "\n",
        "# Wrap the model into a KerasClassifier\n",
        "model = KerasClassifier(build_fn=create_model, epochs=10, batch_size=64, verbose=1)\n",
        "\n",
        "# Define the parameter grid for GridSearchCV (fine-tuning specific parameters)\n",
        "param_grid = {\n",
        "    'embedding_dim': [64, 128, 256],\n",
        "    'lstm_units': [128, 256],\n",
        "    'dropout_rate': [0.3, 0.5],\n",
        "    'activation': ['relu', 'tanh']  # Grid search for smaller set of activation functions\n",
        "}\n",
        "\n",
        "# Define the parameter distributions for RandomizedSearchCV (more exploration with larger ranges)\n",
        "param_dist = {\n",
        "    'embedding_dim': np.arange(64, 512, 64),\n",
        "    'lstm_units': np.arange(128, 1024, 128),\n",
        "    'dropout_rate': [0.3, 0.4, 0.5, 0.6, 0.7],\n",
        "    'activation': ['relu', 'tanh', 'sigmoid'],\n",
        "}\n",
        "\n",
        "# Initialize GridSearchCV and RandomizedSearchCV\n",
        "grid_search = GridSearchCV(estimator=model, param_grid=param_grid, n_jobs=-1, cv=3, verbose=1)\n",
        "random_search = RandomizedSearchCV(estimator=model, param_distributions=param_dist, n_iter=10, n_jobs=-1, cv=3, verbose=1)\n",
        "\n",
        "# First, perform Grid Search on a smaller set of hyperparameters\n",
        "print(\"\\nStarting Grid Search for Hyperparameter Tuning...\")\n",
        "grid_search.fit(X_train, y_train)\n",
        "\n",
        "# Display the best parameters from Grid Search\n",
        "print(\"Best parameters from Grid Search: \", grid_search.best_params_)\n",
        "best_grid_model = grid_search.best_estimator_\n",
        "\n",
        "# Now, perform Randomized Search on a broader set of hyperparameters\n",
        "print(\"\\nStarting Randomized Search for Hyperparameter Tuning...\")\n",
        "random_search.fit(X_train, y_train)\n",
        "\n",
        "# Display the best parameters from Randomized Search\n",
        "print(\"Best parameters from Randomized Search: \", random_search.best_params_)\n",
        "best_random_model = random_search.best_estimator_\n",
        "\n",
        "# Optionally, you can save the best models\n",
        "best_grid_model.model.save(\"best_grid_search_lstm_model.h5\")\n",
        "best_random_model.model.save(\"best_random_search_lstm_model.h5\")"
      ],
      "metadata": {
        "id": "GBsWa62-EQBb"
      },
      "execution_count": null,
      "outputs": []
    },
    {
      "cell_type": "markdown",
      "source": [
        "#we could use a GRU (Gated Recurrent Unit) instead of the LSTM layer\n",
        "\n",
        "The GRU is used instead of an LSTM. GRUs are similar to LSTMs but use fewer parameters because they combine the forget and input gates into a single update gate. This makes GRUs faster to train and often perform similarly to LSTMs.\n",
        "![image](https://th.bing.com/th/id/R.d0376dd2fe6717cac7529307f66a44c2?rik=gHr9zzcDOHtbUw&riu=http%3a%2f%2fdprogrammer.org%2fwp-content%2fuploads%2f2019%2f04%2fRNN-vs-LSTM-vs-GRU.png&ehk=ZRxIvDbkCISfNll%2bELnGpu6UkiMmzRynIJyu1BtanqI%3d&risl=&pid=ImgRaw&r=0)"
      ],
      "metadata": {
        "id": "6AO0_rNdwgvD"
      }
    },
    {
      "cell_type": "code",
      "source": [
        "from tensorflow.keras.models import Sequential\n",
        "from tensorflow.keras.layers import Embedding, Bidirectional, GRU, Dropout, Dense\n",
        "\n",
        "# Function to create the GRU model with activation as a parameter\n",
        "def create_gru_model(embedding_dim=128, gru_units=256, dropout_rate=0.6, activation='relu'):\n",
        "    model = Sequential()\n",
        "    model.add(Embedding(len(vocab_to_index), embedding_dim, input_length=seq_len))\n",
        "    model.add(Bidirectional(GRU(gru_units, activation=activation)))\n",
        "    model.add(Dropout(dropout_rate))\n",
        "    model.add(Dense(len(vocab_to_index), activation='softmax'))  # Dense layer typically uses softmax for classification\n",
        "    model.compile(optimizer='adam', loss='sparse_categorical_crossentropy', metrics=['accuracy'])\n",
        "    return model"
      ],
      "metadata": {
        "id": "9o_tjTymwe_t"
      },
      "execution_count": null,
      "outputs": []
    },
    {
      "cell_type": "markdown",
      "source": [
        "#Increase data size to improve ARAVEC"
      ],
      "metadata": {
        "id": "XzTONiIvf1yz"
      }
    },
    {
      "cell_type": "code",
      "source": [
        "from gensim.models import Word2Vec\n",
        "# Word Embedding\n",
        "data['tokenized_text'] = data['cleaned_text'].apply(lambda x: x.split())\n",
        "\n",
        "# Prepare a list of tokenized sentences for Word2Vec\n",
        "sentences = data['tokenized_text'].tolist()\n",
        "\n",
        "# Train a Word2Vec model\n",
        "print(\"\\nTraining Word2Vec model...\")\n",
        "word2vec_model = Word2Vec(sentences, vector_size=100, window=5, min_count=5, workers=4)\n",
        "\n",
        "# Save the Word2Vec model\n",
        "word2vec_model.save(\"arabic_word2vec-all.model\")\n",
        "print(\"Word2Vec model trained and saved.\")\n",
        "\n",
        "\n",
        "# Finding similar words\n",
        "word = \"الحب\"\n",
        "if word in word2vec_model.wv:\n",
        "    similar_words = word2vec_model.wv.most_similar(word, topn=10)\n",
        "    print(f\"\\nWords similar to '{word}':\")\n",
        "    for similar_word, similarity in similar_words:\n",
        "        print(f\"{similar_word}: {similarity}\")\n",
        "else:\n",
        "    print(f\"\\nThe word '{word}' is not in the Word2Vec vocabulary.\")\n"
      ],
      "metadata": {
        "colab": {
          "base_uri": "https://localhost:8080/"
        },
        "id": "BzWDj_uPeXlf",
        "outputId": "fd808c9e-bf6c-469e-c863-95ca73fb2688"
      },
      "execution_count": 131,
      "outputs": [
        {
          "output_type": "stream",
          "name": "stdout",
          "text": [
            "\n",
            "Training Word2Vec model...\n",
            "Word2Vec model trained and saved.\n",
            "\n",
            "Words similar to 'الحب':\n",
            "العشق: 0.8265653848648071\n",
            "الهوي: 0.7237054705619812\n",
            "لحب: 0.7121508121490479\n",
            "المحبه: 0.7111994028091431\n",
            "حبه: 0.6898466348648071\n",
            "حبك: 0.6849278807640076\n",
            "الوجد: 0.6827913522720337\n",
            "قلبك: 0.671090304851532\n",
            "الغرام: 0.6697653532028198\n",
            "بالحب: 0.6599934697151184\n"
          ]
        }
      ]
    },
    {
      "cell_type": "markdown",
      "source": [
        "\n",
        "When Increasing the data size to improve models by:\n",
        "\n",
        "- Better Generalization: The model learns from more examples, making it better at handling unseen data.\n",
        "- Improved Word Representations: With more data, the model gets better at understanding word meanings and relationships.\n",
        "- BUT: all data requires an additional 2 weeks to run\n",
        " - Challenges: It requires more computing power and may not always provide huge improvements after a certain point."
      ],
      "metadata": {
        "id": "UmdaQVD_kaX9"
      }
    },
    {
      "cell_type": "code",
      "source": [],
      "metadata": {
        "id": "wPiODg_ymBJJ"
      },
      "execution_count": null,
      "outputs": []
    }
  ]
}